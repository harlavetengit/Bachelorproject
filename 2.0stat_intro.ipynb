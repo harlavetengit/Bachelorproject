{
 "cells": [
  {
   "cell_type": "markdown",
   "id": "bf8196f2-079b-466b-9299-0d7656bf2327",
   "metadata": {},
   "source": [
    "<b> Inden du går igang med jupiter notebooks<b>\n",
    "- For at komme godt igang med Jupiter notebook har vi lavet en lille tutorial: INDSÆT VIDEOLINK\n",
    "\n",
    "- Hvis du oplever koden driller anbefaler vi at du spørger ChatGPT om hjælp til dit problem (<u>IKKE TIL AT LØSE OPGAVERNE</u>).\n",
    "    \n",
    "    \n",
    "# Introduktion til statistik i partikelfysik\n",
    "Velkommen til statistik delen af vores projekt om partikel fysik. \n",
    "I denne del af projektet bliver man klædt på til at kunne besvare spørgsmål som:\n",
    "- Hvordan visualiserer man en sandsynlighed? \n",
    "- Hvornår ved vi om noget er rigtigt? \n",
    "- Opfører vores resultater sig som vi forventer? \n",
    "    \n",
    "    \n",
    "Til at besvare spørgsmål som disse anvender man statistik som værktøj. I denne del af projektet vil du lære om: \n",
    "1) Opstilling af simuleret (tilfældig) data som kan repræsenterer virkeligheden\n",
    "2) Hvad er en normalfordeling og hvordan aflæser man den?\n",
    "3) Introduktion til $\\chi^2$-testen (udtales chi i anden)\n",
    "5) Hvordan sammenligner vi vores resultater\n",
    "\n",
    "## Hvad er statistik?\n",
    "\n",
    "Du har i matematik og hverdagssammenhæng måske allerede hørt om begreber som anvendes indenfor statistikken: Middelværdi, sandsynlighed, spredning... Dette er termer som bruges til at konkretiserer eller afgrænse et emne. Hvis man eksempelvis siger \"Jeg træner i gennemsnit 2 gange om ugen på en måned, men det er usikkert om jeg kommer afsted en tredje gang\" så har man sagt noget der er mere konkret end: \"jeg træner engang imellem\". \n",
    "    \n",
    "På samme måde vil man i fysikkens verden gerne konkretisere og afgrænse de emner vi undersøger med hjælp fra statistiske værktøjer. For at komme med et eksempel fra partikel fysik: Det er mere konkret at sige en partikel vejer 2.4 Mega ElektronVolt pr lysets hastighed i anden, fremfor at sige den vejer helt ufatteligt lidt. Forstår du tankegangen? \n",
    "\n",
    "Hver notebook er udstyret med et teoriafsnit efterfulgt at et eksempel. På denne måde får man lov til at arbejde hands on imens teorien er frisk. \n",
    "    \n",
    "### Eksempel der følger alle beskrivelserne\n",
    "For at give dig et fuldstændigt billede af hvordan du anvender de værktøjer der præsenteres for dig, vil et gennemgående eksempel blive fulgt vedrørende skostørrelser. Det håber vi kan være med til at skabe en rød tråd for den statistiske forståelse af det samme emne. Hvis du når hurtigt i mål kan du måske endda prøve at lave dine egne eksempler! Lad os tage en ting af gangen og kaste os ud i det."
   ]
  },
  {
   "cell_type": "code",
   "execution_count": 1,
   "id": "72c84899-0313-4150-bce3-674b2b6a9b51",
   "metadata": {},
   "outputs": [],
   "source": [
    "#  Husk at indlæse pakkerne inden du starter på sættet ved at \n",
    "#   klikke på denne type boks og trykke [shift] + [enter]:\n",
    "\n",
    "import matplotlib.pyplot as plt #plotpakke\n",
    "import numpy as np  # Alt-muligt-pakken Numpy som forkortes til np for hurtigere adgang\n"
   ]
  },
  {
   "cell_type": "markdown",
   "id": "0d770102-0c99-4c6c-9346-448a601a11ef",
   "metadata": {},
   "source": [
    "Hvis du har brug for hjælp til at forstå nogen af de begreber der anvendes i statistik, kan statistik og sandsynlighed fra [Webmatematik](https://www.webmatematik.dk/lektioner/7-9-klasse/statistik-og-sandsynlighed/statistik) være nyttig at gennemgå. "
   ]
  }
 ],
 "metadata": {
  "kernelspec": {
   "display_name": "Python 3",
   "language": "python",
   "name": "python3"
  },
  "language_info": {
   "codemirror_mode": {
    "name": "ipython",
    "version": 3
   },
   "file_extension": ".py",
   "mimetype": "text/x-python",
   "name": "python",
   "nbconvert_exporter": "python",
   "pygments_lexer": "ipython3",
   "version": "3.8.8"
  }
 },
 "nbformat": 4,
 "nbformat_minor": 5
}
