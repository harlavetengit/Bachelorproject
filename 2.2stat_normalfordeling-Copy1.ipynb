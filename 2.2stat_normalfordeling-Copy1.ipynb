{
 "cells": [
  {
   "cell_type": "markdown",
   "id": "6805507b-e6c2-40e8-b2d7-e8a7a94ff1f5",
   "metadata": {},
   "source": [
    "# 2) Normalfordeling\n",
    "I sidste afsnit lærte vi om at generere tilfældig data. \n",
    "\n",
    "I dette afsnit vil vi undersøge hvordan data fordeler sig når man måler hændelser(events) mange gange. I denne sammenhæng introduceres du til normalfordelingen (Også kaldet  \"Gauss fordelingen\"). \n",
    "___\n",
    "## Teoriafsnit\n",
    "\n",
    "En normalfordeling er en symmetrisk fordeling over sandsynlighed hvor de fleste af dataene ligger tæt på middelværdien, og færre data er langt væk fra den. \n",
    "\n",
    "<b> Vi kalder det en normalfordeling fordi den beskriver hvordan data fordeler sig normalt når vi ser på naturlige mønstre der forekommer ved mange events</b>. \n",
    "\n",
    "Normalfordelingen er utrolig gavnlig når man skal sige noget konkret om naturlige fænomener. Det kunne eksempelvis være skostørrelser som vi regnede på i forrige notebook. \n",
    "\n",
    "<b>Formlen for normalfordeling:</b>\n",
    "\n",
    "\\$\n",
    "normal(x) = \\frac{1}{\\sigma \\sqrt{2 \\pi}} \\exp\\left( -\\frac{(x - \\mu)^2}{2 \\sigma^2} \\right)\n",
    "\\$\n",
    "\n",
    "Den er rigtig grim, men du behøver kun at kende til følgende for at aflæse den (resten klarer vi for dig):\n",
    "\n",
    "- $\\mu$ = middelværdien\n",
    "- $\\sigma$ = spredning (hvor spredte dataene er omkring middelværdien)\n",
    "- $x$ er den tilfældige variabel (f.eks. skostørrelse eller højde), som vi ønsker at beregne sandsynligheden for.\n",
    "\n",
    "\n",
    "Man bliver først introduceret for den i matematik på b-niveau i gymnasiet så det er helt i orden hvis man synes det er svært. Yderligere læsning kan findes på [Webmatematik](https://www.webmatematik.dk/lektioner/matematik-b/statistik/normalfordeling)\n",
    "\n",
    "(Se eller gense hvordan begreber som middelværdi og variationsbredde  visualiseres i 'gennemsnit og variation' afsnittet fra [PhEt Colorado](https://phet.colorado.edu/da/simulations/center-and-variability))\n",
    "___\n",
    "___\n",
    "## Eksempel med skostørrelser: \n",
    "<b>Formål : dette afsnit vil opnå forståelse for hvorfor størrelsen af antal målinger (også kaldet teststørrelse) er afgørende for at data efterligner normalfordeling.</b> Som nævnt ovenfor, opnår normalfordelingen sin symmetriske form når man arbejder med data der baserer sig på mange målinger. Vi er interesserede i at vores teoretiske model kommer til at ligne den data vi arbejder med så meget som muligt. \n",
    "\n",
    "\n",
    "I dette afsnit vil du se hvordan dataen efterligner en \"klokkeform\" (gaussisk form) i takt med antallet af målinger stiger. Samtidig er det svært at sige noget konkret om en teststørrelse på 10 målinger. "
   ]
  },
  {
   "cell_type": "code",
   "execution_count": 9,
   "id": "f9026a64-f39c-4b90-ac2e-2b7a2add9a4a",
   "metadata": {},
   "outputs": [],
   "source": [
    "# Lad os prøve at visualisere en normalfordeling ud fra vores skostørrelse eksempel med kodning\n",
    "# Vi indlæser først pakkerne \n",
    "\n",
    "import numpy as np\n",
    "import matplotlib.pyplot as plt"
   ]
  },
  {
   "cell_type": "markdown",
   "id": "dfcf3e52-d710-43e0-8989-79f6c4b2993b",
   "metadata": {},
   "source": [
    "Værdierne for <i>middelværdi</i> og <i>spredning</i> skal bare være identiske med dem du brugte i  første del af notebook 1) Opstilling af simuleret/tilfældig data. $\\mu = 38$, og $\\sigma = 4$.\n",
    "\n",
    "Antal målinger er hvad du skal fokuserer mest på. \n",
    "\n",
    "Hvordan ser din fordeling ud når du indsætter:\n",
    "- antal målinger = 1000?\n",
    "- antal målinger = 10 000?\n",
    "- antal målinger = 30?\n",
    "\n",
    "Start med 1000 og udregn de 2 næste celler inden du prøver de andre antal målinger.\n",
    "Hvis du når igennem det hele kan du også regulere i bins og undersøge hvilken betydning det har for din normalfordeling."
   ]
  },
  {
   "cell_type": "code",
   "execution_count": 14,
   "id": "20cc3f9d-ce74-49bc-b953-568db259c0f2",
   "metadata": {},
   "outputs": [],
   "source": [
    "# Input parametre for fordelingen (i skal gøre det samme som i sidste notebook):\n",
    "middelværdi = 1 # mu\n",
    "spredning = 1 # sigma\n",
    "\n",
    "\n",
    "antal_målinger = 1 # teststørrelsen (start med 1000)\n",
    "bins = 30 # Søjler (start med 30) \n",
    "\n",
    "# Generer tilfældig data:\n",
    "data = np.random.normal(middelværdi, spredning, antal_målinger)"
   ]
  },
  {
   "cell_type": "markdown",
   "id": "8136215e-ae78-473c-a44e-01e90e42e809",
   "metadata": {},
   "source": [
    "<b>Visualiser dine resultater:</b>\n",
    "Denne celle er allerede klar. Kør cellen ([shift] + [enter]) for at se histogram plot:"
   ]
  },
  {
   "cell_type": "code",
   "execution_count": 15,
   "id": "326b43b0-34fd-4818-81e7-224da7470356",
   "metadata": {},
   "outputs": [
    {
     "data": {
      "image/png": "[encoded data removed]",
      "text/plain": [
       "<Figure size 720x576 with 1 Axes>"
      ]
     },
     "metadata": {
      "needs_background": "light"
     },
     "output_type": "display_data"
    }
   ],
   "source": [
    "# Plot din normalfordeling (bare tryk enter, jeg har ordnet det hele for dig så længe du har udfyldt cellen ovenover)\n",
    "\n",
    "plt.figure(figsize=(10,8)) #størrelse på plot\n",
    "plt.title('Tilfældig data over mange forsøg', )\n",
    "plt.hist(data, bins = bins, density = True, alpha = 0.8, edgecolor = 'black')\n",
    "plt.xlabel('Skostørrelser')\n",
    "plt.ylabel('Sandsynlighedstæthed')\n",
    "plt.show()"
   ]
  },
  {
   "cell_type": "markdown",
   "id": "08c73e69-4468-4786-b3b7-28fcd76b9135",
   "metadata": {},
   "source": [
    "Nu vil vi gerne plotte en normalfordeling der repræsenterer den data vi lige har generet. \n",
    "\n",
    "<b> VIGTIGT</b>\n",
    "I cellen nedenunder skal du selv indaste plt.xlim så den passer til din data. Du skal du aflæse den mindste og største værdi på histogrammet i cellen ovenover. Den indsætter du i minimum og maximum, eksempelvis hvis den går fra 25 - 55 skal koden se sådan ud:\n",
    "\n",
    "```python\n",
    "xmin, xmax = plt.xlim(25, 55)\n"
   ]
  },
  {
   "cell_type": "code",
   "execution_count": null,
   "id": "d4abfb5e-bbca-4a55-9582-790a0d15e5a9",
   "metadata": {},
   "outputs": [],
   "source": [
    "# Parametre for normalfordelingen\n",
    "mu = middelværdi    \n",
    "sigma = spredning \n",
    "num_samples = antal_målinger \n",
    "\n",
    "#Det her skal du ikke tænke over\n",
    "fig = plt.figure() \n",
    "\n",
    "# HER SKAL DU INDSÆTTE MIN OG MAX VÆRDIER\n",
    "xmin, xmax = plt.xlim(INDSÆT MIN,INDSÆT MAX) #Grænserne på x-aksen leg gerne med disse\n",
    "\n",
    "#Det her skal du ikke tænke over\n",
    "x = np.linspace(xmin, xmax, 100)\n",
    "plt.close(fig)\n",
    "\n",
    "#Her defineres formlen for normalfordelingen (du skal ikke gøre noget)\n",
    "p = 1/(sigma * np.sqrt(2 * np.pi)) * np.exp(-0.5 * ((x - mu) / sigma)**2)"
   ]
  },
  {
   "cell_type": "markdown",
   "id": "5308742d-8587-4284-afbd-4085c2dcdc4c",
   "metadata": {},
   "source": [
    "<b>Visualiser dine resultater:</b>\n",
    "Denne celle er allerede klar. Kør cellen ([shift] + [enter]) for at se normalfordelingen og histogram plot:"
   ]
  },
  {
   "cell_type": "code",
   "execution_count": null,
   "id": "87e3c8b1-7bf5-45fb-9bd9-6b942ffaaae5",
   "metadata": {},
   "outputs": [],
   "source": [
    "#Plot: tryk shift + enter for at få plot frem\n",
    "\n",
    "plt.figure(figsize=(10,8)) #størrelse på plot\n",
    "plt.plot(x, p, 'k',linewidth=2, label = 'Teoretisk normalfordeling baseret på din data')\n",
    "plt.hist(data, bins = bins,edgecolor = 'black', density = True, alpha = 0.5, label = 'Tilfældig data som du har genereret')\n",
    "\n",
    "# Titel og labels\n",
    "plt.title('Normalfordeling', fontsize=14)\n",
    "plt.xlabel('Skostørrelse', fontsize=12)\n",
    "plt.ylabel('Frekvens', fontsize=12)\n",
    "plt.legend(loc = 'upper right')\n",
    "plt.show()"
   ]
  },
  {
   "cell_type": "markdown",
   "id": "edcd5d6b-4662-419e-8017-7cd9bb7e7215",
   "metadata": {},
   "source": [
    "Du har nu lavet en normalfordeling over din data. \n",
    "- Kan du forklare middelværdien og spredningen ud fra din normalfordeling?\n",
    "- Synes du at den teoretiske model er en god forklaring på hvordan dataen ser ud? \n",
    "\n",
    "Gå nu tilbage og ret antal_målinger for hhv. 10 000 og 30. \n",
    "\n",
    "<i>(Hvis du oplever problemer kan det være en god ide at trykke \"restart kernel\" inden du begynder. Husk at reloade pakkerne hvis det er tilfældet.)</i>\n",
    "___"
   ]
  },
  {
   "cell_type": "markdown",
   "id": "d967be7c-596a-40ba-8b08-6c427f194b3d",
   "metadata": {},
   "source": [
    "### Ekstra: 3-sigma-reglen:\n",
    "3-sigma eller 3-spredningsreglen er en måde vi kan sige noget om sandsynligheden ud fra 1, 2 eller 3 standardafviger (sigma).\n",
    "\n",
    "- indenfor 1xsigma: beskriver ca 68% af dataen\n",
    "- indenfor 2xsigma: beskriver ca 95% af dataen\n",
    "- indenfor 3xsigma: beskriver ca 99.7% af dataen\n",
    "\n",
    "Hvad betyder det når vi tolker vores resultater?\n",
    "Det betyder at vi nu kan sige noget konkret om størrelsen på vores test. \n",
    "\n",
    "<u>Hvis vi har målt pigernes skostørrelse:</u>\n",
    "Så siger vi 99.7% af pigernes skostørrelse = 3xspredningen, ligger indenfor intervallet a til b. (hvor a = $\\mu - 3\\sigma$, b = $\\mu + 3\\sigma$)\n",
    " \n",
    "I den næste celle skal du bare trykke enter uden at tænke over koden. Den er baseret på hvad du tidligere har indtastet, så hvis du vil se om den opfører sig anderledes med andre værdier kan du indtaste det i toppen og køre hele koden igennem (vigtigt for hver celle). \n",
    "\n",
    "Outputtet du får er din genererede tilfældige data, din normalfordeling og 3-sigma visualiseret med stipplede linjer. "
   ]
  },
  {
   "cell_type": "code",
   "execution_count": null,
   "id": "3df5c8ef-572b-443d-88d3-a70e5bd0724d",
   "metadata": {},
   "outputs": [],
   "source": [
    "# Grænser baseret på 3-sigma-reglen\n",
    "xmin, xmax = mu - 3 * sigma, mu + 3 * sigma\n",
    "# Generer x-værdier inden for 3-sigma\n",
    "#x = np.linspace(xmin, xmax, 100)\n",
    "\n",
    "\n",
    "# Plot input\n",
    "plt.figure(figsize=(10,8))\n",
    "plt.plot(x, p,'k', linewidth=2, label='Normalfordeling') \n",
    "plt.hist(data, bins=bins, density=True, alpha=0.3, edgecolor='black')\n",
    "\n",
    "# 1-sigma \n",
    "plt.axvline(mu - sigma, color='r', linestyle='--', label='-1 Sigma')\n",
    "plt.axvline(mu + sigma, color='r', linestyle='--', label='+1 Sigma')\n",
    "# 2-sigma\n",
    "plt.axvline(mu - 2 * sigma, color='g', linestyle='--', label='-2 Sigma')\n",
    "plt.axvline(mu + 2 * sigma, color='g', linestyle='--', label='+2 Sigma')\n",
    "# 3-sigma\n",
    "plt.axvline(mu - 3 * sigma, color='b', linestyle='--', label='-3 Sigma')\n",
    "plt.axvline(mu + 3 * sigma, color='b', linestyle='--', label='+3 Sigma')\n",
    "\n",
    "# Tilføj titel og labels\n",
    "plt.title('Normalfordeling med 1, 2 og 3 Sigma Intervaller')\n",
    "plt.xlabel('Værdi')\n",
    "plt.ylabel('Frekvens')\n",
    "plt.legend(loc = 'upper right')\n",
    "plt.show()\n",
    "\n",
    "# Print data\n",
    "print(\"Normalfordelingsparametre:\")\n",
    "print(f\"Middelværdi: {mu}\")\n",
    "print(f\"Standardafvigelse: {sigma}\")\n",
    "print(f\"xmin: {xmin}, xmax: {xmax}\")\n"
   ]
  },
  {
   "cell_type": "markdown",
   "id": "36fc7b91-c63c-47a8-962a-e99a8801dc15",
   "metadata": {},
   "source": [
    "### Ekstra ekstra: fits\n",
    "\n",
    "Man kender ikke altid middelværdien eller spredningen i data man får præsenteret. I disse tilfælde fitter man sin data og trækker parametrene ud fra den formel man man fitter efter. "
   ]
  },
  {
   "cell_type": "code",
   "execution_count": null,
   "id": "c639df70-9277-43af-8c98-7f5ede1d8ee8",
   "metadata": {},
   "outputs": [],
   "source": []
  }
 ],
 "metadata": {
  "kernelspec": {
   "display_name": "Python 3",
   "language": "python",
   "name": "python3"
  },
  "language_info": {
   "codemirror_mode": {
    "name": "ipython",
    "version": 3
   },
   "file_extension": ".py",
   "mimetype": "text/x-python",
   "name": "python",
   "nbconvert_exporter": "python",
   "pygments_lexer": "ipython3",
   "version": "3.8.8"
  }
 },
 "nbformat": 4,
 "nbformat_minor": 5
}
