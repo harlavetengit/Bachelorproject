{
 "cells": [
  {
   "cell_type": "markdown",
   "id": "c5c63d0f-9738-4cb7-be9d-e24faf2a3d9e",
   "metadata": {},
   "source": [
    "# Analyse af partiklen $K^0$s massefordeling med data fra ALEPH:\n",
    "I denne notebook kommer du til at arbejde med data massefordelingen for $K^0$-partiklen, med data fra ALEPH-detektoren. Koden du møder vil i høj grad blive forklaret, men det mest essentielle er at du forsår fortolkningen af resultaterne.\n",
    "___\n",
    "## Teoriafsnint:\n",
    "### $K^0$-partiklen:\n",
    "Denne type partikel er en af de henfald der kan komme fra $V^0$ partiklen.\n",
    "Vi skal i denne notebook undersøge massen af $K^0$ partikler med data fra ALEPH. Den er neutral og kaldes også for en kaon. Den er en del af \"hadronfamilien\" og tilhører mesonerne (kvark + antikvark). Kaonen består af en down-kvark og en anti-strange-kvark. \n",
    "\n",
    "$K^0 = (d) + (\\bar{s})$\n",
    "\n",
    "___ \n",
    "___\n",
    "### I analysen bliver i bedt om:\n",
    "Ved at bruge den tilgængelige data og jeres statistiske viden skal I:\n",
    "1. Analysere fordelingen af massen af $K^0$-partikler:\n",
    "    - Først for data\n",
    "    - Så for Monte Carlo\n",
    "2. Identificere peaket i fordelingen.\n",
    "3. Bestemme massen af $K^0$-partiklen med præcision.\n",
    "4. Sammenligne data med Monte Carlo data\n",
    "5. Sammenligne værdien med Particle Data Groups' (PDG) tabelværdi"
   ]
  },
  {
   "cell_type": "code",
   "execution_count": null,
   "id": "026222b4-7535-4fba-9cd2-c1150b2ab010",
   "metadata": {},
   "outputs": [],
   "source": [
    "# Indlæs pakker \n",
    "import numpy as np \n",
    "import matplotlib.pyplot as plt \n",
    "from scipy.stats import norm\n",
    "from scipy.stats import chi2\n",
    "from matplotlib.ticker import FuncFormatter\n",
    "from scipy.optimize import curve_fit"
   ]
  },
  {
   "cell_type": "markdown",
   "id": "cb3de3af-b236-4b5d-b5c5-cf5e43a54536",
   "metadata": {},
   "source": [
    "## Åbne filer: \n",
    "Du skal åbne massefordelingerne for k0 data og k0 monte carlo data. "
   ]
  },
  {
   "cell_type": "code",
   "execution_count": null,
   "id": "1dab5eb3-8f46-4342-b1c1-dbfded0536f2",
   "metadata": {},
   "outputs": [],
   "source": [
    "# Åbne filerne \n",
    "k0 = np.load('k0_masse.npy')\n",
    "k0_mc = np.load('k0_masse_mc.npy')"
   ]
  },
  {
   "cell_type": "markdown",
   "id": "ecbab0c2-ebaa-4f05-8059-2cbf00bfeb75",
   "metadata": {},
   "source": [
    "## Plot data \n",
    "1) Start med at køre cellen under igennem og se plottet for $K^0$ data. \n",
    "    - Besvar spørgsmål 1 under plot\n",
    "2) Udkommenter derefter linjen der plotter monte carlo dataen for at se om de ligner hinanden\n",
    "    - Besvar spørgsmål 2 under plot"
   ]
  },
  {
   "cell_type": "code",
   "execution_count": null,
   "id": "24acc4d4-d046-4ae3-88b1-e16cd6d89072",
   "metadata": {},
   "outputs": [],
   "source": [
    "#Plot inputs (skal ikke ændres)\n",
    "bins = 100\n",
    "xmin, xmax = 0.425, 0.575\n",
    "bin_range = (xmin, xmax) \n",
    "\n",
    "#Begynd plot\n",
    "plt.figure(figsize=(10,8))\n",
    "plt.title(f'Massefordeling af 'r'$k^0$', fontsize = 30) \n",
    "\n",
    "\n",
    "# Data for k0 partikkel\n",
    "hist = plt.hist(k0, bins = bins, range = bin_range, label =  r'$k^0$' f'-data', alpha = 0.5, edgecolor ='black')\n",
    "\n",
    "# MC data for k0 partikkel:  \n",
    "# slet \"#\" i linjen under for at se monte carlo dataen\n",
    "#plt.hist(k0_mc, bins = bins, range = bin_range,label = r'$k^0$' f'-mc', alpha =0.5, edgecolor ='black')\n",
    "###################################################\n",
    "\n",
    "plt.xlim(xmin,xmax)\n",
    "plt.xlabel('Masse [GeV]', fontsize = 20)\n",
    "plt.ylabel('Hyppighed', fontsize = 20)\n",
    "plt.legend()\n",
    "plt.show()"
   ]
  },
  {
   "cell_type": "markdown",
   "id": "e4919b38-dbed-4515-af87-518e694a3337",
   "metadata": {},
   "source": [
    "### Spørgsmål:\n",
    "1) Er fordelingen normalfordelt? (hint: er der fuldstændig symmetri?)\n",
    "\n",
    "2) Immiterer den tilfældigt genererede data (mc) den data vi har fået fra ALEPH-detektoren? "
   ]
  },
  {
   "cell_type": "markdown",
   "id": "7f9f4145-16f5-4cac-8a6f-35a2a06b3b0a",
   "metadata": {},
   "source": [
    "Svar <b>her:</b>\n",
    "1) svar 1\n",
    "2) svar 2"
   ]
  },
  {
   "cell_type": "markdown",
   "id": "9fbc2dac-05b8-41a7-9ba9-474de842514c",
   "metadata": {},
   "source": [
    "___\n",
    "<b><u>*Dette punkt er ikke vigtigt at forstå for analysen, men hvis du vil vide hvad der sker i koden er der nedunder givet en kort forklaring:<b><u>\n",
    "\n",
    "## Fit funktioner og inputs: bare tryk [shift] + [enter] for at køre koden\n",
    "    \n",
    "### Beskrivelse af funktionerne\n",
    "1. <b>Behandledata:</b> Laver histogram og gemmer inputs som vi skal bruge senere\n",
    "2. <b>add_fit_info:</b> Indsætter tekst på plot\n",
    "3. <b>fitfunktion :</b> Det her er den funktion vi fitter efter. Altså vores bedste bud på at beskrive hvordan fordelingen opfører sig. Som du nok har bemærket, normalfordeler vores data og MC sig desværre ikke helt symmetrisk og derfor bliver man nødt til at tilføje noget mere til sit gæt. \n",
    "\n",
    "\"Gættefunktionen\" er noget mere kompliceret end det du har lært om indtil videre, men kort fortalt er det 2 Gauss funktioner som fitter efter signalet (peaket) og 1 lineær funktion som fitter efter baggrunden. \n",
    "\n",
    "### Forklaring af listen med startgæt\n",
    "Under funktionerne ser du en liste med startgæt, dette er parameterværdier vi gætter som skal indsættes i funktionen.\n",
    "- Værdien 0.0497 er et gæt på my (middelværdien), som vi har foretaget ud fra at aflæse hvor middelværdien i histogrammet foroven var placeret. (denne værdi er ens for begge gauss funktionerne)\n",
    "- Værdierne \n",
    "    - 0.005 er gæt på spredningen for den første gauss \n",
    "    - 0.01 er gæt på spredningen for den anden gauss \n",
    "- Værdierne:\n",
    "    - -100 er gæt for amplituden af den lineære funktion\n",
    "    - 10 er gæt for hældningen af den lineære funktion \n",
    "    \n",
    "### Fit for data og MC\n",
    "I de 2 nederste afsnit af cellen nedenunder ser du hvordan vi laver fits ud fra de funktioner og startgæt vi har lavet. Sw outputs vi får, ved at gøre det på den her måde er både dataen,, fits, usikkerheder, parametrer og fejl (errors). "
   ]
  },
  {
   "cell_type": "code",
   "execution_count": null,
   "id": "be5ccd9d-4029-41ce-85d6-039145741141",
   "metadata": {
    "tags": []
   },
   "outputs": [],
   "source": [
    "# Funktioner der skal bruges\n",
    "def behandledata(masse_data, bin_range, bins, startgæt, label):\n",
    "    counts, bin_edges, _ = plt.hist(masse_data, bins = bins, range = bin_range, alpha = 0.5, edgecolor = 'black', label = label)\n",
    "    bin_width = bin_edges[1] - bin_edges[0]\n",
    "    bin_centers = 0.5*(bin_edges[1:] + bin_edges[:-1])\n",
    "    uncertainties = np.sqrt(counts)\n",
    "    plt.errorbar(bin_centers, counts, yerr=uncertainties, fmt='.')\n",
    "    params, covariance = curve_fit(fitfunktion, bin_centers, counts, p0=startgæt, sigma=uncertainties, absolute_sigma=True)\n",
    "    errors = np.sqrt(np.diag(covariance))\n",
    "    return bin_centers, counts, uncertainties, params, errors\n",
    "\n",
    "    \n",
    "# Dobbelt gauss + lineær funktion\n",
    "def fitfunktion(x, A1, mu, sigma1, A2, sigma2, k, m):\n",
    "    gauss1 = A1*np.exp(-0.5 * ((x - mu) / sigma1) ** 2)\n",
    "    gauss2 = A2 * np.exp(-0.5 * ((x - mu) / sigma2) ** 2)\n",
    "    baggrund = k*x + m   \n",
    "    return gauss1 + gauss2 + baggrund\n",
    "\n",
    "#startgæt:\n",
    "startgæt = [3500, 0.497, 0.005, 500, 0.01, -100, 10]\n",
    "\n"
   ]
  },
  {
   "cell_type": "code",
   "execution_count": null,
   "id": "b823cabb-1763-4858-a0a0-e4173ab57fba",
   "metadata": {
    "jupyter": {
     "source_hidden": true
    },
    "tags": []
   },
   "outputs": [],
   "source": [
    "#######################Databehandling##########################\n",
    "fig = plt.figure()\n",
    "# FIT FOR DATA\n",
    "X, Y, yerr, params, errors = behandledata(k0, bin_range, bins, startgæt, label=\"Data\")\n",
    "x_fit = np.linspace(min(X), max(X), 1000)\n",
    "y_fit = fitfunktion(x_fit, *params)\n",
    "data_fit = plt.plot(x_fit, y_fit, label=\"Data k0 Fit\", color='red')\n",
    "\n",
    "# FIT FOR MC DATA\n",
    "# Behandle MC-data\n",
    "X_mc, Y_mc, yerr_mc, params_mc, errors_mc = behandledata(k0_mc, bin_range, bins, startgæt, label=\"MC Data\")\n",
    "x_fit_mc = np.linspace(min(X_mc), max(X_mc), 1000)\n",
    "y_fit_mc = fitfunktion(x_fit_mc, *params_mc)\n",
    "mc_fit = plt.plot(x_fit_mc, y_fit_mc, label=\"MC Fit\", color='blue')\n",
    "\n",
    "plt.close(fig) #Ikke lav et plot her (:"
   ]
  },
  {
   "cell_type": "markdown",
   "id": "016ea7b0-4d72-4163-a880-416ef01fb662",
   "metadata": {},
   "source": [
    "___\n",
    "## Plot resultaterne(Lang plotfunktion): tryk [shift] + [enter]\n",
    "Følgende afsnit visualiserer den databehandling i cellen foroven. Vi plotter flere plots i samme figur, derfor er det en meget lang kode. \n",
    "\n",
    "Når du har kørt cellen vil du se 3 plots: \n",
    "1) Data + fit for massefordelingen af kaonen\n",
    "2) Monte Carlo data + MC fit for massefordelingen af kaonen\n",
    "3) Sammenligning af fits"
   ]
  },
  {
   "cell_type": "code",
   "execution_count": null,
   "id": "417ba585-867b-4f42-831c-4df62a247144",
   "metadata": {
    "jupyter": {
     "source_hidden": true
    },
    "tags": []
   },
   "outputs": [],
   "source": [
    "# Opret figur og gridspe\n",
    "fig = plt.figure(figsize=(30, 10))\n",
    "gs = fig.add_gridspec(1, 3)\n",
    "\n",
    "# Opret akser\n",
    "axs = []\n",
    "axs.append(fig.add_subplot(gs[0, 0]))  \n",
    "axs.append(fig.add_subplot(gs[0, 1]))   \n",
    "axs.append(fig.add_subplot(gs[0, 2]))   \n",
    "\n",
    "# Plot i stor s]ubplot\n",
    "#text\n",
    "\n",
    "# Data\n",
    "axs[0].hist(k0, bins=bins, range=bin_range, alpha=0.2, edgecolor='black', label='data')\n",
    "axs[0].plot(x_fit, y_fit,label='Fit', linewidth = 1 ,color = '#00338c')\n",
    "axs[0].errorbar(X, Y, yerr=yerr, fmt='o', label = 'error')\n",
    "axs[0].set_title(r'$k^0$'f'-masse: Data', fontsize =25)\n",
    "axs[0].set_xlabel(\"Masse [GeV]\", fontsize = 20)\n",
    "axs[0].set_ylabel(\"Hyppighed\", fontsize = 20)\n",
    "axs[0].legend(fontsize=15)\n",
    "axs[0].tick_params(axis='both', which='major', labelsize=20)\n",
    "axs[0].set_facecolor('#eaeaea')\n",
    "axs[0].grid(color = 'w')\n",
    "axs[0].text(min(x_fit), max(y_fit) * 0.5, f\"Data:\\n$\\mu$ = {params[1]:.5f}\\n$\\sigma$ = {abs(params[2]):.5f}\", color='Blue', fontsize = 20)\n",
    "\n",
    "# MC\n",
    "axs[1].hist(k0_mc, bins=bins, range=bin_range, alpha=0.2, color='red', edgecolor='black', label='data')\n",
    "axs[1].plot(x_fit_mc, y_fit_mc ,linewidth = 1, label=\"fit\", color=\"#780000\")\n",
    "axs[1].errorbar(X_mc, Y_mc, yerr=yerr_mc, fmt='o', label = 'error')\n",
    "axs[1].set_title(r'$k^0$'f'-masse: MC data', fontsize = 25)\n",
    "axs[1].set_xlabel(\"Masse [GeV]\", fontsize = 20)\n",
    "axs[1].set_ylabel(\"Hyppighed\", fontsize = 20)\n",
    "axs[1].legend(fontsize=15)\n",
    "axs[1].tick_params(axis='both', which='major', labelsize=20)\n",
    "axs[1].set_facecolor('#eaeaea')\n",
    "axs[1].grid(color = 'w')\n",
    "axs[1].text(min(x_fit), max(y_fit_mc) * 0.5, f\"MC:\\n$\\mu$ = {params_mc[1]:.5f}\\n$\\sigma$ = {abs(params_mc[2]):.5f}\", color='Red', fontsize = 20)\n",
    "\n",
    "#FITS\n",
    "axs[2].plot(x_fit, y_fit, label=r'$k^0$'f'-masse:-data', color=\"#ff0000\", alpha=1)\n",
    "axs[2].plot(x_fit_mc, y_fit_mc, label=r'$k^0$'f'-masse:-Monte Carlo', color=\"#00338c\", alpha = 0.7)\n",
    "axs[2].set_title(r'$k^0$'f'-masse: Sammenlign fits', fontsize = 25)\n",
    "axs[2].set_xlabel(\"Masse [GeV]\", fontsize = 20)\n",
    "axs[2].set_ylabel(\"Hyppighed\", fontsize = 20)\n",
    "axs[2].legend(fontsize=20)\n",
    "axs[2].tick_params(axis='both', which='major', labelsize=20)\n",
    "axs[2].set_facecolor('#eaeaea')\n",
    "\n",
    "# Tilføj en stor overtitel\n",
    "#    fig.suptitle(f' {title}-Massplots', fontsize= 40, va = 'bottom')\n",
    "# Juster layout\n",
    "fig.tight_layout()\n",
    "#plt.savefig(saveas)\n",
    "plt.show()"
   ]
  },
  {
   "cell_type": "markdown",
   "id": "55c6880d-326c-4ac0-83da-e814279ab5c8",
   "metadata": {},
   "source": [
    "### Hvordan tolker vi resultaterne?\n",
    "For at sige noget om massefordelingen for $K^0$ partiklerne skal vi bruge det vi lærte i statistik-delen. \n",
    "tip: \n",
    "- $\\mu = $ my) middelværdien\n",
    "- $\\sigma = $ sigma) spredningen\n",
    "\n",
    "### Spørgsmål:\n",
    "1) Hvad kan vi sige om middelværdien?\n",
    "2) Hvad kan vi sige om spredningen?\n",
    "3) Er det tydeligere nu at vurdere om MC fordeler sig som dataen?"
   ]
  },
  {
   "cell_type": "markdown",
   "id": "c63153e1-1f8a-48ca-ac3f-fbb04ce7ee19",
   "metadata": {},
   "source": [
    "Svar <b>her:</b>\n",
    "1) svar 1\n",
    "2) svar 2\n",
    "3) svar 3"
   ]
  },
  {
   "cell_type": "markdown",
   "id": "cfabfe1a-d990-4fc2-8ab7-049d809cbc2f",
   "metadata": {},
   "source": [
    "___"
   ]
  },
  {
   "cell_type": "markdown",
   "id": "c31ceaaa-bdb6-4d18-9e46-f9ca8ccc1582",
   "metadata": {},
   "source": [
    "## $\\chi^2$-test: passer vores model med den teoretiske? \n",
    "I statistik-delen lærte vi at man opstiller en nulhypotese og bestemmer signifikantsniveau inden man foretager $\\chi^2$ testen:\n",
    "\n",
    "<b>Nulhypotese:</b> Der er en sammenhæng mellem vores fit-funktion, (dobbeltgauss + lineær) og den udleverede data for massefordelingen af $K^0$ partiklerne der er målt i ALEPH eksperimentet.\n",
    "\n",
    "<b>Signifikans:</b> 0.05 (5%)\n",
    "\n",
    "- Inden du kører cellen bedes du om at kigge endnu engang på data og fit og give et gæt på om vores $chi^2$-test overholder signifikans. \n",
    "\n",
    "### Cellen nedenunder skal bare køres: [shift]+[enter]\n",
    "\n",
    "du vil derefter se værdierne for $\\chi^2$-testen for både data og Monte Carlo:"
   ]
  },
  {
   "cell_type": "code",
   "execution_count": null,
   "id": "48d42d38-2342-4bb1-8a57-6b2afc80cdec",
   "metadata": {},
   "outputs": [],
   "source": [
    "#CHI2 funktion\n",
    "def calculate_chi2(X, Y, yerr, params, fitfunc_K0):\n",
    "    y_model = fitfunc_K0(X, *params)\n",
    "    chi2_val = np.sum(((Y - y_model) / yerr) ** 2)\n",
    "    dof = len(X) - len(params)\n",
    "    p_value = chi2.sf(chi2_val, dof)\n",
    "    return chi2_val, dof, p_value\n",
    "\n",
    "# Beregn og udskriv chi2 for data\n",
    "chi2_data, dof_data, p_value_data = calculate_chi2(X, Y, yerr, params, fitfunktion)\n",
    "print(f\"Data: Chi2 = {chi2_data:.2f}, Frihedsgrader = {dof_data}, p-værdi = {p_value_data:.3f}\")\n",
    "chi2_mc, dof_mc, p_value_mc = calculate_chi2(X_mc, Y_mc, yerr_mc, params_mc, fitfunktion)\n",
    "print(f\"MC: Chi2 = {chi2_mc:.2f}, Frihedsgrader = {dof_mc}, p-værdi = {p_value_mc:.3f}\")\n"
   ]
  },
  {
   "cell_type": "markdown",
   "id": "436bfb6b-44c5-4e9f-bef1-97035d044580",
   "metadata": {},
   "source": [
    "### Spørgsmål:\n",
    "1) Hvad betyder p-værdien i det her tilfælde?\n",
    "2) Er det et dårligt fit? "
   ]
  },
  {
   "cell_type": "markdown",
   "id": "e79fc4ec-a1f2-4824-a463-f3daf4b7f3b1",
   "metadata": {},
   "source": [
    "Svar <b>her:</b>\n",
    "1) svar 1\n",
    "2) svar 2"
   ]
  },
  {
   "cell_type": "markdown",
   "id": "b2e1a361-cb97-4d08-a8ca-f11488adec78",
   "metadata": {},
   "source": [
    "### Hvordan tolker vi resultatet?\n",
    "Vores $\\chi^2$ værdi er høj, p-værdien er 0. Betyder det at vi har en ringe model? \n",
    "\n",
    "Svaret ligger i 2 argumenter:\n",
    "<b>big data:</b> Selvom det ligner at vores fit læner sig tæt op af dataen, er det vigtigt at huske på at det er 55 000 events der fittes efter. Når man arbejder med så meget data, skal fittet ligge enormt tæt op af fordelingen. Denne del af databehandling er en delikat process, som med meget små ændringer i sine startgæt kan have afgørende betydning for de fits man laver. Og det er jo dem der skal beskrive hvad vi observerer i naturen. \n",
    "\n",
    "<b> Frihedsgrader:</b> Fordi at vores antal frihedsgrader er så langt fra $\\chi^2$-værdien. Dette skyldes:\n",
    "\n",
    "- høj statistik\n",
    "- små usikkerheder \n",
    "___\n",
    "## Sammenlign med tabelværdien\n",
    "De teoretiske værdier man sammenligner sine resultater med i partikelfysik findes på \"Particle Data Group(PDG)\", som er et internationalt samarbejde der leverer omfattende opsummeringer af partikel fysik og relaterede områder af kosmologi: \"The Review of Particle Physics\".\n",
    "\n",
    "- PDG teoretisk værdi for $K^0$-masse findes [her](https://pdg.lbl.gov/2018/listings/rpp2018-list-K-zero.pdf)\n",
    "\n",
    "Stemmer dine værdier overens med tabelværdien?\n",
    "\n",
    "<i>(note: vi har målt i giga-eV og PDG angiver i mega-eV, derfor er der nogen eksponenters forskel)</i>"
   ]
  },
  {
   "cell_type": "markdown",
   "id": "66c6ef79-e536-4c6f-a9cb-01f73580a61f",
   "metadata": {},
   "source": [
    "<b> Indsæt svar her</b>"
   ]
  },
  {
   "cell_type": "markdown",
   "id": "dead34c4-39e4-4e15-aef8-afb01f563d37",
   "metadata": {},
   "source": [
    "___\n",
    "\n",
    "## Konklusion\n",
    "Du har nu gennemgået følgende emner:\n",
    "#### 1) Hente ekstern data fra ALEPH ned til din notebook\n",
    "I statistik-delen prøvede du selv at generere data som du arbejdede med, men i denne notebook skulle vi hente ekstern data som var foretaget af nogen andre. \n",
    "\n",
    "#### 2) Visualisering af massefordeling\n",
    "Vi prøvede allerede at visualiserede data i statistik-delen. Nu fik vi plottet vores massefordeling af data og Monte Carlo data i et histogram for $K^0$-partiklerne. Ved at gøre dette, havde vi mulighed for at afgive kvalificerede gæt på vores fitfunktions inputparametre. \n",
    "\n",
    "#### 3) Fitfunktion: \n",
    "Databehandling og fitfunktionen. Denne del var mere udybdegående end hvad vi tidligere har gennemgået. Vi har \n",
    "- Defineret en funktion der tog sig af at trække den relevante data ud fra histogrammerne. \n",
    "- Defineret en fitfunktion som er et bud på hvordan vores data opfører sig.\n",
    "- indtastet de kvalificerede startgæt for parametrene i vores fitfunktion.\n",
    "\n",
    "#### 4) Plot dit fit sammen med histogram data\n",
    "Ved at plotte vores fit for data og Monte Carlo data fik vi visualiseret hvor tæt vores fit lagde sig omkring den data vi arbejder med. \n",
    "Vi sammenlignede også vores fit for data og Monte Carlo for at se om de ligner hinanden.\n",
    "#### 5) Udført en $\\chi^2$-test på dit fit\n",
    "I statistik-delen blev vi introduceret for $\\chi^2$-test. Vi har foretaget den på vores $K^0$-masse fits og set om den stemmer overens med fordelingen. Selvom det visuelt ligner at fittet er tæt op af data, afslører $\\chi^2$-testen, at når man arbejder med så store datasæt, har selv små afvigelser stor betydning for hvor gode ens resultater er. \n",
    "#### 6) Sammenlignet dine resultater med den teoretiske tabel-værdi fra PDG. \n",
    "Vi har på baggrund af vores dataanalyse sammenlignet vores resultater med en teoretisk tabelværdi. \n",
    "___\n",
    "___"
   ]
  }
 ],
 "metadata": {
  "kernelspec": {
   "display_name": "Python 3",
   "language": "python",
   "name": "python3"
  },
  "language_info": {
   "codemirror_mode": {
    "name": "ipython",
    "version": 3
   },
   "file_extension": ".py",
   "mimetype": "text/x-python",
   "name": "python",
   "nbconvert_exporter": "python",
   "pygments_lexer": "ipython3",
   "version": "3.8.8"
  }
 },
 "nbformat": 4,
 "nbformat_minor": 5
}
