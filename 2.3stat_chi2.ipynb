{
 "cells": [
  {
   "cell_type": "markdown",
   "id": "ca7d5d4d-44e5-4546-a4e4-49b12077b9b9",
   "metadata": {},
   "source": [
    "# 3) $\\chi^2$-test (chi i anden)\n",
    "Formål: Du vil blive introduceret til $\\chi^2$-testen som er et statistisk værktøj der anvendes til at vurderer om ens resultater stemmer overens med den teoretiske fordeling.\n",
    "\n",
    "<i> Chi kommer af det græske symbol $\\chi$. I fysik og matematik løber vi desværre hurtigt tør for bogstaver og må derfor låne fra det græske. </i>\n",
    "\n",
    "Chi i anden testen er et statistisk værktøj man bruger til at sammenligne data man har observeret med den data vi forventer (typisk en teoretisk værdi). \n",
    "\n",
    "- Du vil blive introduceret til [$\\chi^2$-testen](https://www.webmatematik.dk/lektioner/matematik-b/statistik/chi-i-anden-test ) i matematik på b-niveau i gymnasiet \n",
    "___\n",
    "## Teoriafsnit\n",
    "Dette afnsit forklarer dig trinvis hvordan $\\chi^2$-testen udføres. \n",
    "\n",
    "#### 1) Opstiller en nulhypotese:\n",
    "Inden man udfører $\\chi^2$-testen opstilles en nulhypotese. Det er en påstand (et postulat) der skal stille spørgsmålet om hvorvidt din undersøgelse (observationer) matcher den bagvedliggende teori (forventede).\n",
    "\n",
    "##### 1.2) sætter et signifikansniveau:\n",
    "Hvor mange procent er grænsen for at vores test holder? Det vurderer man på forhånd. Denne grænse kaldes for signifikansniveauet. Den er typisk bestemt på forhånd til 0.05(5%), men kan i visse tilfælde være tilpasset den bestemte undersøgelse. \n",
    "\n",
    "<i>I denne notebook sættes signifikantsniveauet til 0.05, altså 5%. </i>\n",
    "\n",
    "#### 2) Indsætter data:\n",
    "Når det kommer til at kodning, er det en fordel at arbejde med lister når man har med større data at gøre. \n",
    "\n",
    "I vores eksempel med skostørrelser nedenunder har vi opsat dataen i lister der gør det overskueligt for dig selv og python.  \n",
    "\n",
    "\n",
    "#### 3) Udfører $\\chi^2$-testen: \n",
    "Chi i anden testen anvendes blandt andet til at:\n",
    "- Undersøge om indsamlet data (observerede) matcher med teoretiske værdier som kendes på forhånd (forventede).\n",
    "\n",
    "- teste om to variable er uafhængige af hinanden.\n",
    "\n",
    "<b> Formlen ser sådan ud:</b>\n",
    "\n",
    "$\n",
    "\\chi^2 = \\sum \\frac{(Observerede_i - Forventede_i)^2}{Forventede_i}\n",
    "$\n",
    "- <u>Observerede værdier</u>: antal elever med given skostørrelse\n",
    "- <u>Forventede værdier</u>: Antal elever vi forventer der har den givende skostørrelse (Vi leger at vi kender fordelingen)\n",
    "\n",
    "(Mere om $\\sum$ [summationstegn](https://www.webmatematik.dk/lektioner/matematik-b/statistik/summationstegn) )\n",
    "\n",
    "\n",
    "\n",
    "#### 4) Udregner p-værdien\n",
    "P-værdien udregnes ud fra $\\chi^2$-testen og er en værdi der gør det muligt at sige noget konkret om vores nulhypotese. \n",
    "\n",
    "P-værdien bruges til at afgøre, om nulhypotesen kan afvises. Hvis den er mindre end eller lig med signifikansniveauet (typisk 0,05), afviser vi nulhypotesen. Hvis p-værdien er større, kan nulhypotesen ikke afvises.\n",
    "\n",
    "#### 5) Fortolker resultaterne af testen\n",
    "Du kan tolke dine resultater på to måder. Hhv. ved at slå den kritiske værdi op for din $\\chi^2$-test eller direkte aflæsning af p-værdien. For at gøre begge skal du dog kende til antallet af frihedsgrader.\n",
    "\n",
    "\n",
    "<b> Frihedsgrader:</b>  For at tolke $\\chi^2$-testen og udregne p-værdien skal man også kende antallet af frihedsgrader. Det fås ved: \n",
    "\n",
    "$Frihedsgrader = (typer\\space observationer) - 1$. \n",
    "\n",
    "\n",
    "Vi kommer ikke dybere ind på frihedsgraderne, men på [Webmatematik](https://www.webmatematik.dk/lektioner/matematik-b/statistik/chi-i-anden-test) står der en mere detaljeret forklaring om frihedsgrader. \n",
    "\n",
    "#### Fortolke resultater via $\\chi^2$-testen\n",
    "$\\chi^2$-testen kan aflæses ved at bruge et [$\\chi^2$ skema](https://www.webmatematik.dk/Oldsite/media/34490517/2-65.png). Skemaet opstiller lister af kritiske værdier. De er bestemt ud fra antal frihedsgrader og størrelsen på signifikans. \n",
    "\n",
    "Hvis størrelsen på din $\\chi^2$-test overskrider den kritiske værdi forkastes nulhypotesen. Dette vil med andre ord betyde, at der ikke er nogen signifikans sammenhæng mellem din observerede data og den teoretiske fordeling hvis størrelsen på din $\\chi^2$-test er større end den kritiske værdi.  \n",
    "\n",
    "#### Fortolke resultater via p-værdien\n",
    "For at fortolke resultater ud fra p-værdien, aflæses den direkte. Modsat $\\chi^2$-testen, skal denne værdi være <u>større</u> end signifikansen. På denne måde kan vi mere effektivt kommentere på vores resultater, uden først at skulle aflæse et skema. \n",
    "___ \n",
    "\n",
    "Det forventes ikke at du forstår denne notebook til fuld, derfor har vi ordnet koden for dig. Målet er, at du aflæser resultatet, og prøver at forstå hvilken betydning det har for den statistiske analyse. \n",
    "___\n",
    "___\n",
    "## Tilbage til vores eksempel med skostørrelser\n",
    "Vi vil nu gennemgå de forskellige trin i vores eksempel med skostørrelser:"
   ]
  },
  {
   "cell_type": "code",
   "execution_count": 26,
   "id": "d7a19a52-c886-4d92-ab9b-47543d0cc122",
   "metadata": {},
   "outputs": [],
   "source": [
    "# Vi indlæser først pakkerne \n",
    "import numpy as np\n",
    "from scipy.stats import chisquare #fra pakken scipy.stats der kommer med en masse brugbare statistiske værktøjer!\n",
    "import matplotlib.pyplot as plt"
   ]
  },
  {
   "cell_type": "markdown",
   "id": "04d894f5-947a-47d4-8cc3-129792ed6ab1",
   "metadata": {},
   "source": [
    "### 1) Opstiller vores nulhypotese:\n",
    "\n",
    "<i>\"Ved at indsamle data af skostørrelser forventer vi at den følger fordelingen af skostørrelser der er baseret på en teoretisk model.\"</i>\n",
    "\n",
    "(Vi sætter signifikansniveauet til 5% og undersøger om den grænse overskrides når vi skelner forskellen på den observerede data og den teoretiske)"
   ]
  },
  {
   "cell_type": "markdown",
   "id": "35956f97-c2d0-4842-bfff-565620265a97",
   "metadata": {},
   "source": [
    "### 2) Indsætter data:\n",
    "<b> Til kodningen</b>: skal vi bruge 3 lister (en række af værdier).\n",
    "1) <b>Størrelser:</b> repræsenter intervallet af de forskellige skostørrelser der måles. I dette tilfælde er der indsamlet data af skostørrelser i intervallet str. 36-40. \n",
    "2) <b>Observerede:</b> repræsenterer data man observerer. I dette tilfælde er der talt skostørrelser for 100 personer i intervallet 36-40. \n",
    "\n",
    "\n",
    "3) <b>Forventede:</b> repræsenter den teoretiske værdi. I dette tilfælde baseret på skostørrer i Storbritanien for 100 personer i intervallet 36-40."
   ]
  },
  {
   "cell_type": "code",
   "execution_count": 27,
   "id": "f3181d9b-8a80-4621-9c82-b2bdb2c7d70d",
   "metadata": {},
   "outputs": [],
   "source": [
    "#Skostørrelser\n",
    "størrelser = ['36', '37', '38', '39', '40'] \n",
    "\n",
    "# Observerede skostørrelser: Data vi selv har indsamlet\n",
    "observerede = [4, 12, 30, 38, 16] # Skostørrelser: 36, 37, 38, 39, 40\n",
    "\n",
    "#Forventede skostørrelse: Tabelværdi \n",
    "forventede = [2.28, 13.59, 34.13, 34.13, 13.59]  # Forventet indtastet på forhånd\n"
   ]
  },
  {
   "cell_type": "markdown",
   "id": "280e728a-a131-43d7-86e4-0d13d9bba6c5",
   "metadata": {},
   "source": [
    "### 3) Visualiserer listerne: \n",
    "(ikke et krav, men kan hjælpe til at danne et bedre overblik over det vi prøver at sammenligne)\n",
    "\n",
    "<b> Plot data: </b> Lad os visualliserer vores observerede og teoretiske fordelinger af skostørrelser med et plot."
   ]
  },
  {
   "cell_type": "code",
   "execution_count": 28,
   "id": "7b5c485b-382d-4da4-92eb-ac6278e47b65",
   "metadata": {},
   "outputs": [
    {
     "data": {
      "image/png": "[encoded data removed]",
      "text/plain": [
       "<Figure size 720x576 with 1 Axes>"
      ]
     },
     "metadata": {
      "needs_background": "light"
     },
     "output_type": "display_data"
    }
   ],
   "source": [
    "# Visualisering\n",
    "plt.figure(figsize=(10,8))\n",
    "x = np.arange(len(størrelser))\n",
    "plt.bar(x - 0.2, observerede, width=0.4, label='Indsamlet data (Observeret)', color='skyblue', edgecolor = 'black')\n",
    "plt.bar(x + 0.2, forventede, width=0.4, label='Tabelværdi (Forventet)', color='#ff7979', edgecolor = 'black')\n",
    "plt.xticks(x, størrelser)\n",
    "plt.xlabel('Skostørrelse')\n",
    "plt.ylabel('Antal elever')\n",
    "plt.title('Observeret vs. Forventet Fordeling af Skostørrelser')\n",
    "plt.legend()\n",
    "plt.show()"
   ]
  },
  {
   "cell_type": "markdown",
   "id": "103eb71c-d211-4ccc-913c-61fc37deb9bd",
   "metadata": {},
   "source": [
    "### 4) Udfører <b> $\\chi^2$-testen:</b> \n",
    "den findes som en kommando hvor man bare skal indsætte dataen vi skrev i starten."
   ]
  },
  {
   "cell_type": "code",
   "execution_count": 29,
   "id": "e7778696-fe39-4432-8eae-042ab4697c2f",
   "metadata": {},
   "outputs": [
    {
     "name": "stdout",
     "output_type": "stream",
     "text": [
      "Chi²-test: 2.85\n",
      "P-værdi: 0.5833\n"
     ]
    }
   ],
   "source": [
    "# Beregner chi i anden og p-værdi (forklares i slutningen af notebook)\n",
    "chi2, p_værdi = chisquare(f_obs = observerede, f_exp = forventede)\n",
    "\n",
    "# Viser resultaterne \n",
    "print(f'Chi²-test: {chi2:.2f}')\n",
    "print(f'P-værdi: {p_værdi:.4f}')"
   ]
  },
  {
   "cell_type": "markdown",
   "id": "6288a7b3-3cf7-469c-9a1a-76efd9d3d75f",
   "metadata": {},
   "source": [
    "### 5) Fortolker vores resultater:\n",
    "    \n",
    "Vi kan nu besvare den nulhypotese vi startede notebooken med. \n",
    "\n",
    "<u>P-værdien er større end 0.05: </u>\n",
    "- <i>Nulhypotesen siger at de observerede skostørrelser ikke afviger betydeligt fra de forventede skostørrelser. </i>\n",
    "\n",
    "Med andre ord viser vores undersøgelse ikke nogen stor forskel mellem den indsamlede data og forventede fordeling af skostørrelserne. Derfor viser det sig at vores test passer til det vi ville forvente. \n",
    "\n",
    "<u> Hvad hvis p-værdien var mindre end 0.05?</u>\n",
    "\n",
    "I dette tilfælde ville vi afvise nulhypotesen og konkludere, at fordelingen af skostørrelser ikke passer til den forventede fordeling.\n",
    "\n",
    "<b> Bonus:</b> Kan du fortolke dine resultater ud fra [$\\chi^2$ skemaet?](https://www.webmatematik.dk/Oldsite/media/34490517/2-65.png) \n",
    "- Hint: Typer skostørrelser: 36, 37, 38, 39, 40\n",
    "    - <i>Frihedsgrader = antal af typer skostørrelser - 1</i>\n",
    "___\n",
    "\n",
    "Du er nu færdig med $\\chi^2$ afsnittet. Hvis du føler at du har dannet dig en god forståelse for emnet kan du prøve at ændre i listen <b>observerede</b> (bare husk at summen skal være 100). Se hvordan det påvirker størrelsen af $\\chi^2$-testen og p-værdien. \n",
    "___"
   ]
  },
  {
   "cell_type": "markdown",
   "id": "c829c654-c528-47c7-b36d-4953e18046e5",
   "metadata": {},
   "source": [
    "Tilføj egne noter <b> her</b>:"
   ]
  }
 ],
 "metadata": {
  "kernelspec": {
   "display_name": "Python 3",
   "language": "python",
   "name": "python3"
  },
  "language_info": {
   "codemirror_mode": {
    "name": "ipython",
    "version": 3
   },
   "file_extension": ".py",
   "mimetype": "text/x-python",
   "name": "python",
   "nbconvert_exporter": "python",
   "pygments_lexer": "ipython3",
   "version": "3.8.8"
  }
 },
 "nbformat": 4,
 "nbformat_minor": 5
}
