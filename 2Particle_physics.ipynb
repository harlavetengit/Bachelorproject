{
 "cells": [
  {
   "cell_type": "markdown",
   "id": "2d430131-418e-425a-8ed4-c4a94aef9c34",
   "metadata": {},
   "source": [
    "# Del 2: Arbejde med $v_0$ partikler \n",
    "___\n",
    "<b>Denne notebook kommer ind på den fysik-relaterede del af projektet. Følgende emner gennemgås:</b>\n",
    "\n",
    "<u>Del 2:</u> Arbejde med $v_0$ partikler\n",
    "\n",
    "4) $v_0$ partikler del 1: Hvordan dannes de?\n",
    "5) $v_0$ partikler del 2: Deres egenskaber. \n",
    "6) ALEPH eksperimentet\n",
    "\n",
    "\n",
    "#### Kommentarer til formatet:\n",
    "-  Når du svarer på et spørgsmål: \n",
    "    - Svarene på spørgsmålene skal fungere som din egen notesbog i partikelfysik. Du bestemmer derfor helt selv om du vil svare i hele sætninger, punktform eller stikord.\n",
    "    - dobbeltklik det angivene sted for at udfylde svar. \n",
    "    - Afslut ved at trykke [shift] + [enter].\n",
    "- Når du er færdig med et afsnit, kan du minimere sektionen ved først at trykke på valgte celle og derefter klikke på den blå fane der dukker op til venstre for cellen.\n",
    "- I hvert afsnit har du mulighed for at tilføje \"egne noter\". Det kan enten være læringsstof som spørgsmålene ikke har dækket, dine egne spørgsmål eller lignene.\n",
    "___"
   ]
  },
  {
   "cell_type": "markdown",
   "id": "10098728-e524-4d42-ab94-044fa158abd0",
   "metadata": {},
   "source": [
    "___\n",
    "## <b>$v_0$ partikler del 1:</b> Dannelsen\n",
    "\n",
    "- formål og motivation \n",
    "\n",
    "For at tilgå videomaterialet tryk på linket: \n",
    "www.indsætlink.dk\n",
    "\n",
    "<b> Kommentarer til videomaterialet </b>\n",
    "1) 1:20 indsæt kommentar\n",
    "2) \n",
    "\n",
    "## Spørgsmål til dette afsnit:\n"
   ]
  },
  {
   "cell_type": "markdown",
   "id": "3c5ef2e4-fc3c-4900-8b1a-cce69a3f7dff",
   "metadata": {},
   "source": [
    "___\n",
    "## <b> $v_0$ partikler del 2:</b> Deres egenskaber\n",
    "- formål og motivation \n",
    "\n",
    "For at tilgå videomaterialet tryk på linket: \n",
    "www.indsætlink.dk\n",
    "\n",
    "<b> Kommentarer til videomaterialet </b>\n",
    "1) 1:20 indsæt kommentar\n",
    "2) \n",
    "\n",
    "## Spørgsmål til dette afsnit:"
   ]
  },
  {
   "cell_type": "markdown",
   "id": "f31bd8b3-d5ac-46ef-85c4-140f54595660",
   "metadata": {},
   "source": [
    "### 1)<b> spørgsmål</b>"
   ]
  },
  {
   "cell_type": "markdown",
   "id": "7e9a8d2f-367e-41e3-98aa-1e47b9d7d51a",
   "metadata": {},
   "source": [
    "Dobbeltklik <b>her</b> for at svare\n",
    "\n",
    "svar:"
   ]
  },
  {
   "cell_type": "code",
   "execution_count": null,
   "id": "3f0e479e-56d7-4990-b869-d215e4bfe9e0",
   "metadata": {},
   "outputs": [],
   "source": []
  },
  {
   "cell_type": "markdown",
   "id": "829b0076-c5b3-4adf-8651-d58860437bd6",
   "metadata": {},
   "source": [
    "___\n",
    "## ALEPH \n",
    "- formål og motivation \n",
    "\n",
    "For at tilgå videomaterialet tryk på linket: \n",
    "www.indsætlink.dk\n",
    "\n",
    "<b> Kommentarer til videomaterialet </b>\n",
    "1) 1:20 indsæt kommentar\n",
    "2) \n",
    "\n",
    "## Spørgsmål til dette afsnit:"
   ]
  },
  {
   "cell_type": "code",
   "execution_count": null,
   "id": "92f9b46a-e5cc-4240-9a6d-ef4ee63a428c",
   "metadata": {},
   "outputs": [],
   "source": []
  }
 ],
 "metadata": {
  "kernelspec": {
   "display_name": "Python 3",
   "language": "python",
   "name": "python3"
  },
  "language_info": {
   "codemirror_mode": {
    "name": "ipython",
    "version": 3
   },
   "file_extension": ".py",
   "mimetype": "text/x-python",
   "name": "python",
   "nbconvert_exporter": "python",
   "pygments_lexer": "ipython3",
   "version": "3.8.8"
  }
 },
 "nbformat": 4,
 "nbformat_minor": 5
}
