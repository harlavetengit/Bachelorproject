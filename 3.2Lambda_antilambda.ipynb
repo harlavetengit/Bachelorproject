{
 "cells": [
  {
   "cell_type": "markdown",
   "id": "016b9b32-4536-4bfd-85d2-556290af6dc3",
   "metadata": {},
   "source": [
    "# Analyse af partiklerne $\\Lambda$(lambda)- og $\\bar{\\Lambda}$ (anitlambda) massefordeling med data fra ALEPH:\n",
    "I denne notebook kommer du til at arbejde med massefordelingen for $\\Lambda$- og $\\bar{\\Lambda}$ partiklerne, med data fra ALEPH-detektoren. Vi vil undersøge hvor meget partiklens massefordeling ligner sin antipartikels. \n",
    "\n",
    "Ligesom i forrige notebook: koden du vil møde i høj grad bliver forklaret og fokus vil være på at du forstår fortolkningen af resultaterne.\n",
    "___\n",
    "## Teoriafsnit\n",
    "### $\\Lambda$- og $\\bar{\\Lambda}$-partiklerne\n",
    "Disse partikler er også nogle af de henfald der kan komme fra $V^0$ partiklen.\n",
    "Vi skal også undersøge massen af $\\Lambda$(lambda) og dens antipartikel $\\bar\\Lambda$(antilambda). Disse typer partikler hører til hadronfamilien, med \"kvarkeparringen\" af 3 kvarker. Dem vi kalder baryoner. \n",
    "- $\\Lambda$ baryonen består af en up-kvark, en down-kvark og en strange-kvark\n",
    "    - $\\Lambda = (u) + (d) + (s)$\n",
    "    \n",
    "- $\\bar\\Lambda$ af en anti up-kvart, anti down-kvark og anti strange-kvark. \n",
    "    - $\\bar\\Lambda = (\\bar{u}) + (\\bar{d}) + (\\bar{s}) $\n",
    "\n",
    "\n",
    "<i>(Tegnet $\\Lambda$ (lambda) kommer fra det græske alfabet, som jeg tidligere nævnte at fysikere flittigt låner fra.) </i>\n",
    "___ \n",
    "___\n",
    "### I analysen bliver i bedt om:\n",
    "Ved at bruge den tilgængelige data og jeres statistiske viden skal I:\n",
    "1. Vurdere fordelingen af massen af $\\lambda$-partikler:\n",
    "    - Sammenligne fordelingen med målingerne af dens antipartikel $\\bar{\\Lambda}$\n",
    "\n",
    "2. Gentage processen for Monte Carlo simuleringerne af ALEPH-detektoren\n",
    "3. Sammenligne middelværdierne og spredningerne for $\\lambda$ og $\\bar{\\Lambda}$ data og Monte Carlo. \n",
    "4. Se visualisering af hvor tæt de ligger op af hinanden\n",
    "5. Sammenligne værdien med Particle Data Groups' (PDG) tabelværdi"
   ]
  },
  {
   "cell_type": "code",
   "execution_count": null,
   "id": "97e302a8-ae20-443e-94d2-e4edf3117fdd",
   "metadata": {},
   "outputs": [],
   "source": [
    "# Indlæs pakker \n",
    "import numpy as np \n",
    "import matplotlib.pyplot as plt \n",
    "from scipy.stats import norm\n",
    "from scipy.stats import chi2\n",
    "from matplotlib.ticker import FuncFormatter\n",
    "from scipy.optimize import curve_fit"
   ]
  },
  {
   "cell_type": "markdown",
   "id": "31e647ac-47c6-492e-9468-a6868d85cb1c",
   "metadata": {},
   "source": [
    "## Åbne filer: \n",
    "Du skal åbne massefordelingerne for k0 data og k0 monte carlo data. "
   ]
  },
  {
   "cell_type": "code",
   "execution_count": null,
   "id": "d0dee647-4d01-462f-88f4-c0dffcf292c9",
   "metadata": {},
   "outputs": [],
   "source": [
    "# Åbne filerne ()\n",
    "Lambda = np.load('lambda.npy')\n",
    "Lambda_mc = np.load('lambda_mc.npy')\n",
    "\n",
    "antilambda = np.load('anti_lambda.npy')\n",
    "antilambda_mc = np.load('anti_lambda_mc.npy')"
   ]
  },
  {
   "cell_type": "markdown",
   "id": "dc6c3ea2-9978-4caa-8035-5f15bc677976",
   "metadata": {},
   "source": [
    "## Plot data \n",
    "1) Start med at køre cellen under igennem og se plottet for $\\Lambda$-data\n",
    "    - Besvar spørgsmål 1 under plottet\n",
    "2) Fjern \"#\" foran plt.hist(antilambda, bins = bins......) for at plotte $\\bar{\\Lambda}$-data\n",
    "    - Besvar spørgsmål 2 under plottet"
   ]
  },
  {
   "cell_type": "code",
   "execution_count": null,
   "id": "6f2eaceb-82d2-402f-8610-957d695bee91",
   "metadata": {},
   "outputs": [],
   "source": [
    "#Plot inputs (skal ikke ændres)\n",
    "bins = 100\n",
    "xmin, xmax = (1.079, 1.17)\n",
    "bin_range = (xmin, xmax) \n",
    "\n",
    "#Begynd plot\n",
    "plt.figure(figsize=(10,8))\n",
    "plt.title(f'Massefordeling af ' r'$\\Lambda$' f' og 'r'$\\bar{\\Lambda}$'f'-data', fontsize = 25) \n",
    "\n",
    "\n",
    "# Data for k0 partikkel\n",
    "hist = plt.hist(Lambda, bins = bins, range = bin_range, label =  r'$\\Lambda$'f'-data', alpha = 0.8, edgecolor ='black')\n",
    "\n",
    "# MC data for k0 partikkel:\n",
    "###################################################\n",
    "# Fjern '#' på linjen under under for at se antilambda massefordeling\n",
    "#plt.hist(antilambda, bins = bins, range = bin_range, label = r'$\\bar{\\Lambda}$'f' data', alpha =0.5, edgecolor ='black')\n",
    "###################################################\n",
    "\n",
    "plt.xlim(xmin,xmax)\n",
    "plt.xlabel('Masse [GeV]', fontsize = 20)\n",
    "plt.ylabel('Hyppighed', fontsize = 20)\n",
    "plt.legend()\n",
    "plt.show()"
   ]
  },
  {
   "cell_type": "markdown",
   "id": "11027600-6547-4ba3-9fb1-610e2fef2723",
   "metadata": {},
   "source": [
    "### Spørgsmål:\n",
    "1) Er fordelingen normalfordelt? (hint: er der fuldstændig symmetri?)\n",
    "\n",
    "2) Er der tegn på at partiklen $\\Lambda$ og dens antipartikkel $\\bar{\\Lambda}$ deler egenskaben masse ud fra at se på deres fordelinger? (Husker du hvad du lærte om antipartikler i standard modellen del 1?)"
   ]
  },
  {
   "cell_type": "markdown",
   "id": "b871afe5-2e67-4e65-b14c-9527c4286838",
   "metadata": {},
   "source": [
    "Svar <b>her:</b>\n",
    "1) svar 1\n",
    "2) svar 2"
   ]
  },
  {
   "cell_type": "markdown",
   "id": "c9252b53-fa23-4fa5-be8f-2c649c209aa4",
   "metadata": {},
   "source": [
    "___"
   ]
  },
  {
   "cell_type": "markdown",
   "id": "a6bad0a8-79bc-48a5-8291-6cb06ddbca3e",
   "metadata": {},
   "source": [
    "# Plot Monte Carlo genereret data:\n",
    "Nu har du set massefordelingerne for partiklerne som stammer fra ægte målinger taget af ALEPH detektoren. Men er det også sådan man vil forudsige tilfældig data vil opførere sig ved mange antal målinger? \n",
    "\n",
    "Vi gentager processen men med Monte Carlo data:\n",
    "1) Start med at køre cellen under igennem og se plottet for $\\Lambda$-MC\n",
    "    - Besvar spørgsmål 1 under plottet\n",
    "2) Fjern \"#\" foran plt.hist(antilambda, bins = bins......) for at plotte $\\bar{\\Lambda}$-MC\n",
    "    - Besvar spørgsmål 2 under plottet"
   ]
  },
  {
   "cell_type": "code",
   "execution_count": null,
   "id": "1dd1a799-a0fa-4fc5-a17d-a8673c90f783",
   "metadata": {},
   "outputs": [],
   "source": [
    "#Plot inputs (skal ikke ændres)\n",
    "bins = 100\n",
    " \n",
    "\n",
    "#Begynd plot\n",
    "plt.figure(figsize=(10,8))\n",
    "plt.title(f'Massefordeling af ' r'$\\Lambda$' f' og 'r'$\\bar{\\Lambda}$'f' Monte Carlo', fontsize = 25) \n",
    "\n",
    "\n",
    "# Data for k0 partikkel\n",
    "hist = plt.hist(Lambda_mc, bins = bins, range = bin_range, label =  r'$\\Lambda$'f' MC', alpha = 0.8, edgecolor ='black')\n",
    "\n",
    "\n",
    "###################################################\n",
    "# MC data for k0 partikkel: # Fjern '#' på linjen under for at se antilambda MC massefordeling\n",
    "#plt.hist(antilambda_mc, bins = bins, range = bin_range, label = r'$\\bar{\\Lambda}$'f'MC', alpha =0.5, edgecolor ='black')\n",
    "###################################################\n",
    "\n",
    "plt.xlim(xmin,xmax)\n",
    "plt.xlabel('Masse [GeV]', fontsize = 20)\n",
    "plt.ylabel('Hyppighed', fontsize = 20)\n",
    "plt.legend()\n",
    "plt.show()"
   ]
  },
  {
   "cell_type": "markdown",
   "id": "4a981eab-7adc-4f90-8a9f-507d9ec731a7",
   "metadata": {},
   "source": [
    "### Spørgsmål:\n",
    "1) Er fordelingen for Monte Carlo normalfordelt? (hint: er der fuldstændig symmetri?)\n",
    "\n",
    "2) Opfører Monte Carlo dataen sig som den målte? (Her beder vi bare om øjemål ved middelværdien, du sammenligner ved at scrolle op til forrige plot og se for data)"
   ]
  },
  {
   "cell_type": "markdown",
   "id": "b2e5833d-0dbe-4315-9e34-0670cc0ca43f",
   "metadata": {},
   "source": [
    "Svar <b>her:</b>\n",
    "1) svar 1\n",
    "2) svar 2"
   ]
  },
  {
   "cell_type": "markdown",
   "id": "f637f611-0ab9-49c1-a53b-ae2bf909a98c",
   "metadata": {},
   "source": [
    "___\n",
    "<b><u>*Dette punkt er ikke vigtigt at forstå for analysen, men hvis du vil vide hvad der sker i koden er der nedunder givet en kort forklaring:<b><u>\n",
    "\n",
    "\n",
    "## Fit funktioner og inputs: bare tryk [shift] + [enter] for at køre koden\n",
    "Det eneste der varierer fra den forrige notebook er fitfunktionen:    \n",
    "### Beskrivelse af fitfunktionen\n",
    "Som du muligvis lærte i sidste notebook, skal der grimmere funktioner til når fordelingen ikke er fuldstændigt symmetrisk normaltfordelt. For Lambda og antilambda er den dårlige nyhed at funktionen er endnu fælere, men den gode nyhed er at de ligner hinanden, så vi skal kun bruge 1 gættefunktion.\n",
    "    \n",
    "Som du kan se er der 2 Gaussfunktioner der repræsenterer signalet og en ret ubehagelig baggrundsfunktion der består af en potensfunktion sammensat med en eksponentielt faldende. "
   ]
  },
  {
   "cell_type": "code",
   "execution_count": null,
   "id": "983bb1c3-0b26-44b9-be5c-8c1f5df123c7",
   "metadata": {},
   "outputs": [],
   "source": [
    "# Funktioner der skal bruges\n",
    "def behandledata(masse_data, bin_range, bins, startgæt, label):\n",
    "    # Histogram og fejlberegning\n",
    "    counts, bin_edges, _ = plt.hist(masse_data, bins=bins, range=bin_range, alpha=0.5, label=label)\n",
    "    bin_width = bin_edges[1] - bin_edges[0]\n",
    "    bin_centers = 0.5 * (bin_edges[1:] + bin_edges[:-1])\n",
    "    uncertainties = np.sqrt(counts)\n",
    "    plt.errorbar(bin_centers, counts, yerr=uncertainties, fmt='.')\n",
    "    params, covariance = curve_fit(fitfunktion2, bin_centers, counts, p0= startgæt, sigma=uncertainties, absolute_sigma=True)\n",
    "    errors = np.sqrt(np.diag(covariance))\n",
    "    return bin_centers, counts, uncertainties, params, errors\n",
    "\n",
    "\n",
    "#Vores nye fitfunktion\n",
    "def fitfunktion2(x, A1, mu1, sigma1, A2, mu2, sigma2, N, n, a):\n",
    "    gauss1 = A1 * np.exp(-(x - mu1)**2 / (2 * sigma1**2))\n",
    "    gauss2 = A2 * np.exp(-(x - mu2)**2 / (2 * sigma2**2))\n",
    "    background = N * (x - 1.078)**n * np.exp(-a * (x - 1.078))\n",
    "    return gauss1 + gauss2 + background\n",
    "\n",
    "\n",
    "#startgæt:\n",
    "startgæt1 = [850, 1.115, 0.005, 300, 1.120, 0.004, 200, 1, 10] #for lambda\n",
    "startgæt2 = [800, 1.115, 0.005, 400, 1.120, 0.004, 200, 1, 10] #for antilambda\n",
    "\n"
   ]
  },
  {
   "cell_type": "code",
   "execution_count": null,
   "id": "9424e593-39e4-470b-97da-e52de4b8b1d8",
   "metadata": {
    "jupyter": {
     "source_hidden": true
    },
    "tags": []
   },
   "outputs": [],
   "source": [
    "#Databehandling\n",
    "fig = plt.figure()\n",
    "#######################Fit lambda:##########################\n",
    "#data\n",
    "X1, Y1, yerr1, params1, errors1 = behandledata(Lambda, bin_range, bins, startgæt1, label =r'$\\lambda$'f'-data')\n",
    "x_fit1 = np.linspace(min(X1),max(X1), 1000)\n",
    "y_fit1 = fitfunktion2(x_fit1, *params1)\n",
    "data_fit1 = plt.plot(x_fit1, y_fit1, label ='test')\n",
    "\n",
    "# Monte Carlo\n",
    "X1_mc, Y1_mc, yerr1_mc, params1_mc, errors1_mc = behandledata(Lambda_mc, bin_range, bins, startgæt1, label =r'$\\lambda$'f'-MC')\n",
    "x_fit1_mc = np.linspace(min(X1_mc),max(X1_mc), 1000)\n",
    "y_fit1_mc = fitfunktion2(x_fit1_mc, *params1_mc)\n",
    "\n",
    "#######################Fit antilambda:##########################\n",
    "X2, Y2, yerr2, params2, errors2 = behandledata(antilambda, bin_range, bins, startgæt2, label =r'$\\bar{\\lambda$}'f'-data')\n",
    "x_fit2 = np.linspace(min(X2),max(X2), 1000)\n",
    "y_fit2 = fitfunktion2(x_fit2, *params2)\n",
    "data_fit2 = plt.plot(x_fit2, y_fit2, label ='test')\n",
    "\n",
    "# Monte Carlo\n",
    "X2_mc, Y2_mc, yerr2_mc, params2_mc, errors2_mc = behandledata(antilambda_mc, bin_range, bins, startgæt2, label =r'$\\bar{\\lambda$}$'f'-MC')\n",
    "x_fit2_mc = np.linspace(min(X2_mc),max(X2_mc), 1000)\n",
    "y_fit2_mc = fitfunktion2(x_fit2_mc, *params2_mc)\n",
    "\n",
    "\n",
    "plt.close(fig)\n"
   ]
  },
  {
   "cell_type": "markdown",
   "id": "6ca90257-a231-4c63-a164-e253849d1021",
   "metadata": {},
   "source": [
    "___\n",
    "## Plot resultaterne(Lang plotfunktion): tryk [shift] + [enter]\n",
    "Følgende afsnit visualiserer den databehandling i cellen foroven. Vi plotter flere plots i samme figur, derfor er det en meget lang kode. \n",
    "\n",
    "Når du har kørt cellen vil du se:\n"
   ]
  },
  {
   "cell_type": "code",
   "execution_count": null,
   "id": "56683aa9-5cc7-46b2-bf1e-87eb4c3fa6f6",
   "metadata": {
    "jupyter": {
     "source_hidden": true
    },
    "tags": []
   },
   "outputs": [],
   "source": [
    "# Opret figur og gridspe\n",
    "fig = plt.figure(figsize=(30, 20))\n",
    "gs = fig.add_gridspec(2, 2)\n",
    "\n",
    "# Opret akser\n",
    "axs = []\n",
    "axs.append(fig.add_subplot(gs[0, 0]))  \n",
    "axs.append(fig.add_subplot(gs[0, 1]))  \n",
    "\n",
    "axs.append(fig.add_subplot(gs[1, 0]))  \n",
    "axs.append(fig.add_subplot(gs[1, 1]))  \n",
    "\n",
    "\n",
    "# Plot i stor subplot\n",
    "#text\n",
    "#axs[0].text(min(x_fit), max(y_fit) * 0.5, f\"Data:\\n$\\mu$ = {params[1]:.5f}\\n$\\sigma$ = {abs(params[2]):.5f}\", color='Blue', fontsize = 20)\n",
    "#axs[1].text(min(x_fit), max(y_fit_mc) * 0.5, f\"MC:\\n$\\mu$ = {params_mc[1]:.5f}\\n$\\sigma$ = {abs(params_mc[2]):.5f}\", color='Red', fontsize = 20)\n",
    "\n",
    "#######################DATA lambda + antilambda:##########################\n",
    "# Lambda Data\n",
    "axs[0].hist(Lambda, bins=bins, range=bin_range, alpha=0.2, edgecolor='black', label=r'$\\Lambda$' f'-data')\n",
    "axs[0].plot(x_fit1, y_fit1,label=r'$\\Lambda$' f'-fit', linewidth = 1 ,color = '#00338c')\n",
    "axs[0].errorbar(X1, Y1, yerr=yerr1, fmt='.', label = 'error')\n",
    "axs[0].set_title(r'$\\Lambda$' f' -data massefordeling', fontsize =25)\n",
    "axs[0].set_xlabel(\"Masse [GeV]\", fontsize = 20)\n",
    "axs[0].set_ylabel(\"Hyppighed\", fontsize = 20)\n",
    "axs[0].legend(fontsize=15)\n",
    "axs[0].tick_params(axis='both', which='major', labelsize=20)\n",
    "axs[0].set_facecolor('#eaeaea')\n",
    "axs[0].grid(color = 'w')\n",
    "axs[0].text(min(x_fit1), max(y_fit1) * 0.5, r'$\\Lambda$'f\"-data:\\nMiddelværdi $\\mu$ = {params1[1]:.5f}\\nSpredning $\\sigma$ = {abs(params1[2]):.5f}\", color='Blue', fontsize = 20)\n",
    "\n",
    "# Antilambda data\n",
    "axs[1].hist(antilambda, bins=bins, range=bin_range, alpha=0.2, color='green', edgecolor='black', label=r'$\\bar{\\Lambda}$' f'data'f'data')\n",
    "axs[1].plot(x_fit2, y_fit2 ,linewidth = 1, label=r'$\\bar{\\Lambda}$' f'-fit', color=\"#780000\")\n",
    "axs[1].errorbar(X2, Y2, yerr=yerr2, fmt='.', label = 'error')\n",
    "axs[1].set_title(r'$\\bar{\\Lambda}$' f' -data massefordeling', fontsize = 25)\n",
    "axs[1].set_xlabel(\"Masse [GeV]\", fontsize = 20)\n",
    "axs[1].set_ylabel(\"Hyppighed\", fontsize = 20)\n",
    "axs[1].legend(fontsize=15)\n",
    "axs[1].tick_params(axis='both', which='major', labelsize=20)\n",
    "axs[1].set_facecolor('#eaeaea')\n",
    "axs[1].grid(color = 'w')\n",
    "axs[1].text(min(x_fit2), max(y_fit2) * 0.5, r'$\\bar{\\Lambda}$'f\"-data:\\nMiddelværdi $\\mu$ = {params2[1]:.5f}\\nSpredning $\\sigma$ = {abs(params2[2]):.5f}\", color='Green', fontsize = 20)\n",
    "\n",
    "#######################Monte Carlo: lambda + antilambda:##########################\n",
    "# Lambda Data\n",
    "axs[2].hist(Lambda_mc, bins=bins, range=bin_range, alpha=0.2, color ='green' ,edgecolor='black', label=r'$\\Lambda$' f'-MC')\n",
    "axs[2].plot(x_fit1_mc, y_fit1_mc,label=r'$\\Lambda$' f'-fit', linewidth = 1 ,color = 'red')\n",
    "axs[2].errorbar(X1_mc, Y1_mc, yerr=yerr1_mc, fmt='.', label = 'error')\n",
    "axs[2].set_title(r'$\\Lambda$' f' -Monte Carlo massefordeling', fontsize =25)\n",
    "axs[2].set_xlabel(\"Masse [GeV]\", fontsize = 20)\n",
    "axs[2].set_ylabel(\"Hyppighed\", fontsize = 20)\n",
    "axs[2].legend(fontsize=15)\n",
    "axs[2].tick_params(axis='both', which='major', labelsize=20)\n",
    "axs[2].set_facecolor('#eaeaea')\n",
    "axs[2].grid(color = 'w')\n",
    "axs[2].text(min(x_fit1_mc), max(y_fit1_mc) * 0.5, r'$\\Lambda$'f\"-MC:\\nMiddelværdi $\\mu$ = {params1_mc[1]:.5f}\\nSpredning $\\sigma$ = {abs(params1_mc[2]):.5f}\", color='red', fontsize = 20)\n",
    "\n",
    "# Antilambda data\n",
    "axs[3].hist(antilambda_mc, bins=bins, range=bin_range, alpha=0.2, color='purple', edgecolor='black', label=r'$\\bar{\\Lambda}$' f'-MC'f'data')\n",
    "axs[3].plot(x_fit2_mc, y_fit2_mc ,linewidth = 1, label=r'$\\bar{\\Lambda}$' f'-fit', color=\"purple\")\n",
    "axs[3].errorbar(X2_mc, Y2_mc, yerr=yerr2, fmt='.', label = 'error')\n",
    "axs[3].set_title(r'$\\bar{\\Lambda}$' f' -Monte Carlo massefordeling', fontsize = 25)\n",
    "axs[3].set_xlabel(\"Masse [GeV]\", fontsize = 20)\n",
    "axs[3].set_ylabel(\"Hyppighed\", fontsize = 20)\n",
    "axs[3].legend(fontsize=15)\n",
    "axs[3].tick_params(axis='both', which='major', labelsize=20)\n",
    "axs[3].set_facecolor('#eaeaea')\n",
    "axs[3].grid(color = 'w')\n",
    "axs[3].text(min(x_fit2), max(y_fit2) * 0.5, r'$\\bar{\\Lambda}$'f\"-MC:\\nMiddelværdi $\\mu$ = {params2_mc[1]:.5f}\\nSpredning $\\sigma$ = {abs(params2_mc[2]):.5f}\", color='purple', fontsize = 20)\n",
    "\n",
    "# Tilføj en stor overtitel\n",
    "#    fig.suptitle(f' {title}-Massplots', fontsize= 40, va = 'bottom')\n",
    "# Juster layout\n",
    "fig.tight_layout()\n",
    "#plt.savefig(saveas)\n",
    "plt.show()"
   ]
  },
  {
   "cell_type": "markdown",
   "id": "66d46533-8339-482b-a0f3-10683751d031",
   "metadata": {},
   "source": [
    "## Spørgsmål:\n",
    "1) Sammenlign $\\Lambda$-data og $\\bar{\\Lambda}$-data middelværdier og spredninger\n",
    "2) Gør det samme for $\\Lambda$-MC og $\\bar{\\Lambda}$-MC\n",
    "3) Kan vi, på trods af fittet ikke sidder perfekt op af fordelingerne, sige noget om partikler og deres antipartikler deler egenskaben masse? "
   ]
  },
  {
   "cell_type": "markdown",
   "id": "7f0e020a-8d75-48b5-ad12-01d7d7332dea",
   "metadata": {},
   "source": [
    "Svar <b>her:</b>\n",
    "1) svar 1\n",
    "2) svar 2\n",
    "3) svar 3"
   ]
  },
  {
   "cell_type": "markdown",
   "id": "ddd89de8-4489-402b-9271-8337222d3826",
   "metadata": {},
   "source": [
    "___"
   ]
  },
  {
   "cell_type": "markdown",
   "id": "3f36e66f-17bd-44fd-b82a-4a761701b79e",
   "metadata": {},
   "source": [
    "## Lad os zoome ind på de fits vi har lavet og sammenligne dem:"
   ]
  },
  {
   "cell_type": "code",
   "execution_count": null,
   "id": "08fb0b66-655a-4b9d-894a-6e5206f784a0",
   "metadata": {
    "jupyter": {
     "source_hidden": true
    },
    "tags": []
   },
   "outputs": [],
   "source": [
    "# Opret figur og gridspe\n",
    "fig = plt.figure(figsize=(25, 10))\n",
    "gs = fig.add_gridspec(1, 2)\n",
    "\n",
    "# Opret akser\n",
    "axs = []\n",
    "axs.append(fig.add_subplot(gs[0, 0]))  \n",
    "axs.append(fig.add_subplot(gs[0, 1]))  \n",
    "\n",
    "\n",
    "#FITS sammenligning: data\n",
    "axs[0].plot(x_fit1, y_fit1,label=r'$\\Lambda$' f'-fit', color=\"#ff0000\", alpha=1)\n",
    "axs[0].plot(x_fit2, y_fit2,'--', label=r'$\\bar{\\Lambda}$' f'-fit', color=\"#000000\", alpha=1)\n",
    "axs[0].set_title(f'Sammenligning af fits: ' r'$\\Lambda$' f'-data og 'r'$\\bar{\\Lambda}$'f'-data', fontsize = 25)\n",
    "axs[0].set_xlabel(\"Masse [GeV]\", fontsize = 20)\n",
    "axs[0].set_ylabel(\"Hyppighed\", fontsize = 20)\n",
    "axs[0].set_xlim(1.11,1.122)\n",
    "axs[0].legend(fontsize=20)\n",
    "axs[0].tick_params(axis='both', which='major', labelsize=20)\n",
    "axs[0].set_facecolor('#eaeaea')\n",
    "\n",
    "#FITS sammenligning: Monte Carlo\n",
    "axs[1].plot(x_fit1_mc, y_fit1_mc, label=r'$\\Lambda$' f'-fit', color=\"#ff0000\", alpha=1)\n",
    "axs[1].plot(x_fit2_mc, y_fit2_mc,'--', label=r'$\\bar{\\Lambda}$' f'-fit', color=\"#000000\", alpha=1)\n",
    "axs[1].set_title(f'Sammenligning af fits: ' r'$\\Lambda$' f'-MC og 'r'$\\bar{\\Lambda}$'f'-MC', fontsize = 25)\n",
    "axs[1].set_xlabel(\"Masse [GeV]\", fontsize = 20)\n",
    "axs[1].set_ylabel(\"Hyppighed\", fontsize = 20)\n",
    "axs[1].set_xlim(1.11,1.122)\n",
    "axs[1].legend(fontsize=20)\n",
    "axs[1].tick_params(axis='both', which='major', labelsize=20)\n",
    "axs[1].set_facecolor('#eaeaea')\n",
    "fig.suptitle(f'Sammenligning af partikler og antipartikler fits', fontsize= 40, va = 'bottom')\n",
    "fig.tight_layout()\n",
    "#plt.savefig(saveas)\n",
    "plt.show()\n"
   ]
  },
  {
   "cell_type": "markdown",
   "id": "bc4178c0-6e9c-430b-b34a-7e7b92f908e0",
   "metadata": {},
   "source": [
    "### Her kan du se hvor tæt de egentlig ligger op af hinanden\n",
    "(Endnu tættere end vores fit er relateret med hinanden). \n",
    "- Dette skyldes selvfølgelig at den eneste forskel mellem en partikkel og dens antipartikkel er deres ladning (lærte vi i standard modellen del 2).\n"
   ]
  },
  {
   "cell_type": "markdown",
   "id": "3ad49196-014a-4a59-bc8f-141ce5c54fdc",
   "metadata": {},
   "source": [
    "___\n"
   ]
  },
  {
   "cell_type": "markdown",
   "id": "bb747f0e-973e-4ec8-bec1-1f1d7261ed15",
   "metadata": {},
   "source": [
    "## Sammenlign med tabelværdien\n",
    "\n",
    "- PDG teoretisk værdi for $\\Lambda$-masse findes [her](https://pdg.lbl.gov/2020/tables/rpp2020-tab-baryons-Lambda.pdf)\n",
    "\n",
    "Stemmer dine værdier overens med tabelværdien? \n",
    "\n",
    "<i>(note: vi har målt i giga-eV og PDG angiver i mega-eV, derfor er der nogen eksponenters forskel)</i>"
   ]
  },
  {
   "cell_type": "markdown",
   "id": "b0246748-64e9-47a7-8e1d-44b18a52b4c7",
   "metadata": {},
   "source": [
    "<b> Indsæt svar her</b>"
   ]
  },
  {
   "cell_type": "markdown",
   "id": "a4b8987d-4f32-4c85-b32c-60938aceea89",
   "metadata": {},
   "source": [
    "___\n",
    "## Konklusion\n",
    "\n",
    "Du har nu gennemgået følgende emner:\n",
    "#### 1) Hente ekstern data fra ALEPH ned til din notebook\n",
    "I denne notebook skulle vi, ligesom i sidstem hente ekstern data som var foretaget af nogen andre.  \n",
    "\n",
    "#### 2) Visualisering af massefordeling\n",
    "Denne gang sammenlignede vi ikke data med Monte Carlo ligesom forrige gang, men i stedet sammenlignede vi massefordelingerne af $\\Lambda$- og $\\bar{Lambda}$-partiklerne. \n",
    "\n",
    "### 3) Fitfunktionen\n",
    "Denne fitfunktion var noget mere kompliceret end den forrige og blev derfor ikke udforsket til fulde. Men du blev igen præsenteret for at data der ikke er fuldstændig symmetrisk skal have nogen flere krav til den gættefunktion. \n",
    "\n",
    "### 4) Plot resultater\n",
    "Vi fik nu visualiseret databehandlingen for middelværdien og spredning som vores fit har givet os for de 4 forskellige fordelinger. På denne måde kunne vi analytisk vurdere hvor tæt partikler og antipartiklers målte data og Monte Carlo ligger. Og for at visualisere dette plottede vi deres fit op ad hinanden og så en tæt immitering af hinanden.\n",
    "\n",
    "### 5) Sammenligne resultater med tabel-værdi fra PDG.\n",
    "Ligesom i forrige notebook har vi på baggrund af vores dataanalyse sammenlignet vores resultater med en teoretisk tabelværdi\n",
    "___\n",
    "___"
   ]
  },
  {
   "cell_type": "markdown",
   "id": "9d63d94e-8d5d-4f56-8ac5-ca328e879489",
   "metadata": {},
   "source": [
    "Tillykke, du er nu nået til vejs ende med vores partikel projekt! "
   ]
  }
 ],
 "metadata": {
  "kernelspec": {
   "display_name": "Python 3",
   "language": "python",
   "name": "python3"
  },
  "language_info": {
   "codemirror_mode": {
    "name": "ipython",
    "version": 3
   },
   "file_extension": ".py",
   "mimetype": "text/x-python",
   "name": "python",
   "nbconvert_exporter": "python",
   "pygments_lexer": "ipython3",
   "version": "3.8.8"
  }
 },
 "nbformat": 4,
 "nbformat_minor": 5
}
