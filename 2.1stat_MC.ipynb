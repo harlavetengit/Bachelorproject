{
 "cells": [
  {
   "cell_type": "markdown",
   "id": "d7ff56ec-1dc8-464d-941f-59db10992a70",
   "metadata": {},
   "source": [
    "# 1) Opstilling af simuleret/tilfældig data\n",
    "I denne notebook lærer du om Monte Carlo simuleringer som er et begreb der bruges til at forklare hvad der sker når man bruger tilfældig (simuleret) data til at lave forudsigelser om hvordan verden opfører sig. Kort fortalt bruges Mone Carlo til at anvende tilfældigheden til at finde svar spørgsmål der omhandler stor data.\n",
    "___\n",
    "## Teoriafsnit\n",
    "\n",
    "Når vi arbejder med statistik eller matematiske modeller, kan man få brug for data som skal efterligne virkeligheden. Man kan generere denne type data (tilfældig data) på en computer. Denne metode kaldes for Monte Carlo-simulering.\n",
    "\n",
    "- <b> Hvad bruges Monte-Carlo metoden til?</b>\n",
    "\n",
    "Monte Carlo-metoden bruges til at lave mange gentagne beregninger, hvor resultatet hver gang afhænger af tilfældigheder. Det er lidt ligesom at kaste en terning mange gange og bruge resultaterne til at finde et mønster eller lave forudsigelser.\n",
    "\n",
    "- <b>Hvorfor bruge Monte Carlo-data?</b>\n",
    "\n",
    "Det kan hjælpe os med at forstå sandsynligheder og variation i data.\n",
    "Vi kan bruge det til at teste statistiske metoder, som vi ikke har rigtige data til endnu.\n",
    "\n",
    "- <b>Hvordan genereres Monte Carlo-data?</b>\n",
    "\n",
    "Computeren bruger en formel til at skabe tilfældige tal, som ser ud som om de kommer fra virkelige observationer. \n",
    "\n",
    "\n",
    "Resultatet bliver et sæt simulerede data, som vi kan analysere, ligesom vi ville gøre med rigtige data.\n",
    "Lad os gennemgå eksemplet sammen:"
   ]
  },
  {
   "cell_type": "markdown",
   "id": "609881ea-4693-48fd-b95a-260833e6611f",
   "metadata": {},
   "source": [
    "# Eksempel: skostørrelser\n",
    "Forestil dig, at vi vil undersøge, hvor mange elever i klassen der har en bestemt skostørrelse. Vi kan få computeren til at lave en liste over tilfældige skostørrelser, som følger en fordeling, der ligner en rigtig skoleklasse. Derefter kan vi bruge disse data til at lave grafer og beregninger.\n",
    "\n",
    "Lad os prøve at generere tilfældig data! \n",
    "\n",
    "- Den tilfældige data som vi genererer er i vores tilfælde normalfordelt (næste notebook kommer ind på normalfordelingen). \n",
    "Derfor skal vi angive: \n",
    "     - en <b>middelværdi*</b>\n",
    "     - en <b>variationsbredde*</b> (variationsbredde kaldes også for spredning eller standardafvigelse). \n",
    "\n",
    "(I kan eventuelt udregne og indsætte middelværdien og variationsbredden baseret på tal i jeres klasse i cellen nedenunder) \n",
    "\n",
    "(<i>*mere om </i>Middelværdi og variationsbredde fra [Webmatematik](https://www.webmatematik.dk/lektioner/7-9-klasse/statistik-og-sandsynlighed/statistik) )\n",
    "\n",
    "(Se eller gense hvordan tilfældig data visualiseres i 'gennemsnit og variation' afsnittet fra [PhEt Colorado](https://phet.colorado.edu/da/simulations/center-and-variability) gennem et simpelt eksempel) \n",
    "___\n",
    "___\n",
    "#### Vigtigt*: Når du bliver bedt om at løse en opgave:\n",
    "Skal du genindlæse ([shift] + [enter]) cellen der redigeres i, og derefter gøre det samme for efterfølgende celler, for at få koden til at forstå at der er sket en ændring.\n",
    "___"
   ]
  },
  {
   "cell_type": "code",
   "execution_count": 6,
   "id": "a0270b7e-c61c-42fa-a768-f5b9f18d2f69",
   "metadata": {},
   "outputs": [],
   "source": [
    "# Vi indlæser først pakkerne \n",
    "\n",
    "import numpy as np\n",
    "import matplotlib.pyplot as plt"
   ]
  },
  {
   "cell_type": "markdown",
   "id": "8c63d88a-cf71-4bb8-a64d-659ead1f224c",
   "metadata": {},
   "source": [
    "Jeg har på forhånd indsat en middelværdi = størrelse 38 og spredningen = 4. <i>(Du er mere end velkommen til at ændre i dette)</i>"
   ]
  },
  {
   "cell_type": "code",
   "execution_count": 7,
   "id": "ef61f042-4438-4340-9cc6-bb9de1dd1a0e",
   "metadata": {},
   "outputs": [],
   "source": [
    "# Generer tilfældige data (skostørrelser)\n",
    "\n",
    "middelværdi_sko = 38 # Middelværdien\n",
    "spredning_sko = 4 # Spredningen\n",
    "antal_målinger = 1000  # Antal forsøg (simuleringer)\n",
    "\n",
    "bins = 30 # Antal bins i histogrammet vi skal generere senere"
   ]
  },
  {
   "cell_type": "markdown",
   "id": "873bd84b-96fe-49ba-a373-f7ac806ceb4e",
   "metadata": {},
   "source": [
    "<b> Genererer den tilfældige data ved hjælp af en kommando:</b> np.random.normal er et værktøj der kan generere tilfældig data baseret på hvad vi indtastede i cellen for oven."
   ]
  },
  {
   "cell_type": "code",
   "execution_count": 3,
   "id": "8b134f32-fc28-45d6-be3d-abd48ebb43cd",
   "metadata": {},
   "outputs": [],
   "source": [
    "# fra numpy værktøjskassen: np.random.normal \n",
    "# - et værktøj der laver tilfældige tal ud fra den angivne middelværdi, spredning og antal af målinger \n",
    "\n",
    "sko_størrelser = np.random.normal(middelværdi_sko, spredning_sko, antal_målinger)"
   ]
  },
  {
   "cell_type": "markdown",
   "id": "07c77c42-7c35-4349-b576-fce5827f3d04",
   "metadata": {},
   "source": [
    "<b> Printer de 10 første tilfældigt genererede skostørrelser:</b> på denne måde kan vi teste at det er tilfældige tal. \n",
    "\n",
    "Prøv:\n",
    "\n",
    "1) Indlæs cellen under\n",
    "2) Genindlæs cellen hvor vi definerer skostørrelser\n",
    "3) Genindlæs cellen under\n",
    "\n",
    "Ser du nogen ændring?"
   ]
  },
  {
   "cell_type": "code",
   "execution_count": 9,
   "id": "ce9e8198-3a9a-41c1-a7db-75d400af6966",
   "metadata": {},
   "outputs": [
    {
     "name": "stdout",
     "output_type": "stream",
     "text": [
      "Her kan du se at det er tilfældige tal:  [38.95940225 47.84178237 33.42007569 39.64771755 36.54646325 41.24243907\n",
      " 32.11202819 37.16526523 37.16211872 40.49783172]\n"
     ]
    }
   ],
   "source": [
    "#Lad os teste at det er tilfældige tal som er genereret ved at printe de 10 første tal i den tilfældige liste:\n",
    "\n",
    "print('Her kan du se at det er tilfældige tal: ',sko_størrelser[:10])  # Vis de første 10 tilfældige skostørrelser"
   ]
  },
  {
   "cell_type": "markdown",
   "id": "924b7330-7b5e-4837-87ac-a4e6c53692b1",
   "metadata": {},
   "source": [
    "<b> Til sidst plotter vi vores tilfældigt genererede data i et histogram: </b>på denne måde kan vi visualisere det arbejde computeren har lavet for os i form af at generere tilfældig data."
   ]
  },
  {
   "cell_type": "code",
   "execution_count": 5,
   "id": "1fc5fc0d-d51e-4f82-9112-3c81daaac537",
   "metadata": {},
   "outputs": [
    {
     "data": {
      "image/png": "[encoded data removed]",
      "text/plain": [
       "<Figure size 720x576 with 1 Axes>"
      ]
     },
     "metadata": {
      "needs_background": "light"
     },
     "output_type": "display_data"
    }
   ],
   "source": [
    "# Plot histogram af de genererede skostørrelser\n",
    "plt.figure(figsize=(10,8))\n",
    "plt.hist(sko_størrelser, bins=bins, density=True, alpha=0.6, edgecolor='black')\n",
    "plt.title('Fordeling af skostørrelser (Monte Carlo-simulering)', fontsize=14) #titel\n",
    "plt.xlabel('Skostørrelse', fontsize=12) # X-aksen\n",
    "plt.ylabel('Sandsynlighedstæthed', fontsize=12) # Y-aksen\n",
    "plt.show() #Vis plottet"
   ]
  },
  {
   "cell_type": "markdown",
   "id": "c630782e-bd4a-47dd-88f8-70562e0d7834",
   "metadata": {},
   "source": [
    "<b>Opgaver:</b> \n",
    "- Prøv at ændre antal_målinger = 50. Hvad sker der med din fordeling?\n",
    "- Prøv at ændre antal_målinger = 200 . Hvad sker der med din fordeling?\n",
    "- Prøv at ændre antal_målinger = 10 000. Hvad sker der med din fordeling?\n"
   ]
  },
  {
   "cell_type": "markdown",
   "id": "ea48d558-c7af-450d-a875-afc7c006411f",
   "metadata": {},
   "source": [
    "### Din tur: Generer tilfældig data af skostørrelser for piger og drenge\n",
    "Nu starter vi forfra, men for at gøre det lidt mere spændene vil vi både generere tilfældig data for drengenes og pigernes skostørrelser. "
   ]
  },
  {
   "cell_type": "code",
   "execution_count": 10,
   "id": "5ffcf7f7-1fe6-4021-8b81-b23512a4b2c8",
   "metadata": {},
   "outputs": [],
   "source": [
    "# hvis koden driller prøv at tryk:\"restart the kernel\" lige under fanerne og indlæs pakkerne\n",
    "import numpy as np \n",
    "import matplotlib.pyplot as plt\n"
   ]
  },
  {
   "cell_type": "markdown",
   "id": "00248e02-a987-4d93-840b-cd288568e2cf",
   "metadata": {},
   "source": [
    "Indsæt middelværdien for piger og drenges skostørrelser. Dette kan enten være hvad du tror det er, eller en måling i selv laver. Spredningen har jeg i første omgang angivet for dig."
   ]
  },
  {
   "cell_type": "code",
   "execution_count": null,
   "id": "7d7bd37d-aacd-4948-b1cd-43b51525892c",
   "metadata": {},
   "outputs": [],
   "source": [
    "# Generer tilfældige data (skostørrelser)\n",
    "\n",
    "middelværdi_p = 0 # Middelværdien pige\n",
    "spredning_p = 1.5 # Spredningen pige\n",
    "\n",
    "middelværdi_d = 0 # Middelværdien pige\n",
    "spredning_d =  2 # Spredningen pige\n",
    "\n",
    "\n",
    "# Fælles for begge køn\n",
    "antal_målinger = 10000  \n",
    "bins = 100 "
   ]
  },
  {
   "cell_type": "markdown",
   "id": "a5973949-9a18-415a-9c73-373ce6160976",
   "metadata": {},
   "source": [
    "<b>I næste celle skal du indsætte de angivne data der er skrevet med stort.</b> Det kan gøres på 2 måder:\n",
    "- Indsæt teksten du har defineret for oven: \n",
    "    - middelværdi_p, spredning_p, antal_målinger\n",
    "    - middelværdi_d, spredning_d, antal_målinger \n",
    "- indsæt tallet direkte\n",
    "\n",
    "Prøv begge dele og tjek at det giver det samme. \n",
    "\n",
    "Når man arbejder med store datasæt er det en god ide at navngive sine parametre, så man er sikker på at det er den korrekte data man anvender i sine beregninger."
   ]
  },
  {
   "cell_type": "code",
   "execution_count": null,
   "id": "96867fb5-cbef-4c1b-91f6-c4502e4400c2",
   "metadata": {},
   "outputs": [],
   "source": [
    "# Udfyld for sko piger\n",
    "sko_p = np.random.normal(MIDDELVÆRDI, SPREDNING, MÅLINGER)\n",
    "\n",
    "# Udfyld for sko drenge\n",
    "sko_d = np.random.normal(MIDDELVÆRDI, SPREDNING, MÅLINGER)"
   ]
  },
  {
   "cell_type": "code",
   "execution_count": null,
   "id": "0b30b013-dbe0-4719-9ccd-246a01ae9d7e",
   "metadata": {},
   "outputs": [],
   "source": [
    "# Plot histogram af piger og drenge (Jeg har hjulpet dig med at sætte mærker)\n",
    "plt.figure(figsize=(10,8))\n",
    "\n",
    "#Indsæt data:\n",
    "plt.hist(sko_p, bins=30, density=True, alpha=0.6, color='red', edgecolor='black', label = 'Piger')\n",
    "plt.hist(sko_d, bins=30, density=True, alpha=0.6, color='blue', edgecolor='black', label = 'Drenge')\n",
    "\n",
    "# Information\n",
    "plt.title('Fordeling af skostørrelser (Monte Carlo-simulering)', fontsize=14) #titel\n",
    "plt.xlabel('Skostørrelse', fontsize=12) # X-aksen\n",
    "plt.ylabel('Sandsynlighedstæthed', fontsize=12) # Y-aksen\n",
    "plt.legend()\n",
    "plt.show() #Vis plottet"
   ]
  },
  {
   "cell_type": "markdown",
   "id": "24fe4779-3953-4a46-8e96-d8d8c9080dfd",
   "metadata": {},
   "source": [
    "Tillykke! Du har nu generet din helt egen tilfældige Monte-Carlo data hvor du kan se hvordan skostørrelser fordeler sig blandt køn hvis man havde taget 1000 målinger for både piger og drenge."
   ]
  },
  {
   "cell_type": "markdown",
   "id": "87bb1f73-accb-48ce-b0ba-e2ef16e7859a",
   "metadata": {},
   "source": [
    "Tilføj egne noter <b> her</b>:"
   ]
  },
  {
   "cell_type": "markdown",
   "id": "42dc5e2c-1bf3-407e-90ee-4baeaa390e35",
   "metadata": {},
   "source": []
  }
 ],
 "metadata": {
  "kernelspec": {
   "display_name": "Python 3",
   "language": "python",
   "name": "python3"
  },
  "language_info": {
   "codemirror_mode": {
    "name": "ipython",
    "version": 3
   },
   "file_extension": ".py",
   "mimetype": "text/x-python",
   "name": "python",
   "nbconvert_exporter": "python",
   "pygments_lexer": "ipython3",
   "version": "3.8.8"
  }
 },
 "nbformat": 4,
 "nbformat_minor": 5
}
