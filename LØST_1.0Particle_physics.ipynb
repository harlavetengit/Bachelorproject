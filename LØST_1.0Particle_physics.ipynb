{
 "cells": [
  {
   "cell_type": "markdown",
   "id": "bb3f871e",
   "metadata": {
    "tags": []
   },
   "source": [
    "# Del 1: Grundforståelse for standardmodellen\n",
    "___\n",
    "<b>Denne notebook kommer ind på den fysik-relaterede del af projektet. Følgende emner gennemgås:</b>\n",
    "\n",
    "- Standardmodellen del 1: Introduktion til modellen\n",
    "- Standardmodellen del 2: Fermioner (stofpartiklerne)\n",
    "- Standardmodellen del 3: Bosoner (Kraftformidlerne) \n",
    "\n",
    "#### Kommentarer til formatet:\n",
    "- Når du åbner videomaterialet til hvert afsnit, kan du med fordel åbne den som et nyt vindue og halvere din skærm. På denne måde kan du besvare spørgsmålene løbende.\n",
    "-  Når du svarer på et spørgsmål: \n",
    "    - Dine svar fungere som en notesbog i partikelfysik. Du bestemmer derfor helt selv om du vil svare i hele sætninger, punktform eller stikord. \n",
    "    - Når du har svaret afslutter du ved at trykke [shift] + [enter].\n",
    "\n",
    "- I bunden af hvert afsnit har du mulighed for at tilføje \"egne noter\". Det kan enten være stof som ikke er dækket af spørgsmålene, dine egne spørgsmål eller lignene.\n",
    "___\n",
    "___"
   ]
  },
  {
   "cell_type": "markdown",
   "id": "28f327b0-2370-42b0-b309-8136343f2f6f",
   "metadata": {
    "tags": []
   },
   "source": [
    "## <b>Standardmodellen del 1:</b> Introduktion\n",
    "\n",
    "[Se videoen her](https://youtu.be/12d9j4TsXvc?si=pxkuIOMlIRIFolb4)\n",
    "\n",
    "<b> Kommentarer til videomaterialet </b>\n",
    "1) 1:20 indsæt kommentar\n",
    "2) \n",
    "\n",
    "## Spørgsmål til dette afsnit:"
   ]
  },
  {
   "cell_type": "markdown",
   "id": "5756c1bd-f1e7-49f7-98e0-5d9ed2f1d79f",
   "metadata": {},
   "source": [
    "### 1) <b>Hvad er standardmodellen?</b>"
   ]
  },
  {
   "cell_type": "markdown",
   "id": "73d792e0-1ca7-4604-bf8a-1c751392b9ec",
   "metadata": {
    "tags": []
   },
   "source": [
    "Standard modellen er en teoretisk ramme der beskriver de fundamentale partikler of kræfter i universet (med forbehold for tyngdekraften). "
   ]
  },
  {
   "cell_type": "markdown",
   "id": "3644f100-ebb0-4c7c-bde2-6551246349fc",
   "metadata": {},
   "source": [
    "### 2) <b>Hvilke 3 egenskaber oplyses i standardmodellen om hver eneste partikel?</b>"
   ]
  },
  {
   "cell_type": "markdown",
   "id": "1f97a65e-7b04-4e75-8196-e981026e321e",
   "metadata": {},
   "source": [
    "Masse , Ladning og spin"
   ]
  },
  {
   "cell_type": "markdown",
   "id": "75e9eb9b-bc1a-475d-ac45-abf1771574ab",
   "metadata": {},
   "source": [
    "### 3) <b>Hvilken enhed måles vægten af en partikel i?</b>"
   ]
  },
  {
   "cell_type": "markdown",
   "id": "dd286526-739e-449d-ac21-eb9916e3d72a",
   "metadata": {},
   "source": [
    "Partiklerne måles i elektronvolt delt med lysets hastighed kvadreret: $m = [eV/c^2]$. Denne enhed er udledt fra Einsteins formel for energi."
   ]
  },
  {
   "cell_type": "markdown",
   "id": "27123865-d920-4f61-bde4-dc43237c2c22",
   "metadata": {},
   "source": [
    "### 4) <b>Hvor mange hovedgrupper indeles partiklerne i?</b>\n",
    "- Hvilke typer?\n",
    "- Hvad kaldes de?\n",
    "    "
   ]
  },
  {
   "cell_type": "markdown",
   "id": "41139df4-3ebb-4f77-adbe-d8a34c3f4c10",
   "metadata": {},
   "source": [
    "De indeles i to hovedgrupper:\n",
    "1) Fermionerne: stofpartikler\n",
    "2) Bosonerne kraftformidlerne"
   ]
  },
  {
   "cell_type": "markdown",
   "id": "d6ca5198-7d72-48dc-a88e-bab0935c7258",
   "metadata": {},
   "source": [
    "## Egne noter: \n",
    "Her kan jeg tilføje mine egne noter, det er også nemt at indsætte links: \n",
    "https://da.wikipedia.org/wiki/Standardmodellen"
   ]
  },
  {
   "cell_type": "markdown",
   "id": "1273e32e-2a86-457e-9cd4-ca644d8ebdb5",
   "metadata": {},
   "source": [
    "___"
   ]
  },
  {
   "cell_type": "markdown",
   "id": "55f6581b-7c7a-4f9c-9e2f-f04042b0c4b8",
   "metadata": {
    "tags": []
   },
   "source": [
    "## <b>Standardmodellen del 2:</b> Fermioner (stofpartiklerne)\n",
    "I dette afsnit lærer du om stofpartiklerne:\n",
    "\n",
    "\n",
    "[Se videoen her](https://youtu.be/I8FY2j8v3BI?si=6LY7PFm2FywrUHUd)\n",
    "\n",
    "## Spørgsmål til dette afsnit:"
   ]
  },
  {
   "cell_type": "markdown",
   "id": "f7a247e0-2868-4c2f-b2df-24e0bae3f7aa",
   "metadata": {},
   "source": [
    "### 1)<b> Hvad kalder vi universets mindste byggesten?</b>"
   ]
  },
  {
   "cell_type": "markdown",
   "id": "b90a778f-2cb9-4851-905b-d13ba8035a7a",
   "metadata": {},
   "source": [
    "Dem kalder vi for fermioner eller stofpartikler."
   ]
  },
  {
   "cell_type": "markdown",
   "id": "6f2bbf0c-0837-4893-a468-0becf6dcb064",
   "metadata": {},
   "source": [
    "### 2)<b>Kvarker og Leptoner: </b>\n",
    "- Hvor mange og hvilke type(r) kvarker findes der?\n",
    "- Hvor mange og hvilke type(r) leptoner findes der?\n",
    "- Hvad er forskellen på Leptoner og kvarker?"
   ]
  },
  {
   "cell_type": "markdown",
   "id": "dfebf051-e64e-4d4c-aa0c-4806ebfc0571",
   "metadata": {},
   "source": [
    "- Der findes 6 typer kvarker (og 6 antikvarker)\n",
    "- Der findes 6 typer leptoner (og 6 antileptoner)\n",
    "- Forskellen på kvarker og leptoner er, at kvarker ikke kan eksistere frit ligesom leptonerne. De kommer altså i par (Hadroner)"
   ]
  },
  {
   "cell_type": "markdown",
   "id": "495f3d7b-7c29-4fa6-8b70-d6724797598c",
   "metadata": {},
   "source": [
    "### 3) <b>Hadroner: </b>\n",
    "- Hvad er hadroner lavet af?\n",
    "- Hvor mange typer hadroner findes der?\n",
    "- Hvad hedder de?\n",
    "- I hvilke typer par kommer de i? "
   ]
  },
  {
   "cell_type": "markdown",
   "id": "ea08ceee-bafd-4197-94b8-c65010e0b6de",
   "metadata": {},
   "source": [
    "- Hadroner er lavet af \"kvarke-par\"\n",
    "- Der findes to typer Hadroner/kvarke parringer:\n",
    "    - Baryoner som består af 3 kvarker \n",
    "    - Mesoner som består af 1 kvark + 1 antikvark"
   ]
  },
  {
   "cell_type": "markdown",
   "id": "034e9ad5-6502-4ebc-807a-42d4e12ecb78",
   "metadata": {},
   "source": [
    "### 4) <b>Antipartikler: </b>\n",
    "- Hvad er forskellen på en partikkel og en antipartikkel?\n",
    "- Hvor mange antipartikler findes der?"
   ]
  },
  {
   "cell_type": "markdown",
   "id": "65ab620e-5ec3-4234-baa7-5c30e778bb97",
   "metadata": {},
   "source": [
    "Alle fermionerne har en dertilhørende antipartikel. Forskellen er at antipartiklernes ladning kommer med et modsat fortegn for dens dertilhørende partikel. Ellers er ligner de deres partikel. Der findes 12."
   ]
  },
  {
   "cell_type": "markdown",
   "id": "a70c4855-e6cc-418d-97f1-ca0be09b683d",
   "metadata": {},
   "source": [
    "## Egne noter: \n",
    "Her har jeg fundet noget mere om fermioner: https://lex.dk/fermion"
   ]
  },
  {
   "cell_type": "markdown",
   "id": "44b3184f-704c-40d1-83e1-819c8ddcbeb6",
   "metadata": {},
   "source": [
    "___\n",
    "## <b>Standardmodellen del 3:</b> Bosoner (Kraftformidlerne)\n",
    "- Formål og motivation\n",
    "\n",
    "[Se videoen her](https://youtu.be/Hfgk2JTarkE?si=1AGCEQoyHbY-0xtt)\n",
    "\n",
    "<b> Kommentarer til videomaterialet </b>\n",
    "- 0:30) Der findes [8 uafhængige typer gluoner i standardmodellen](https://en.wikipedia.org/wiki/Gluon?utm_source=chatgpt.com). Dette skyldes at gluonerne er ansvarlige for et fænomen man kalder for \"farveladning\". Dette går ud på at gluonen bærer en farve og en antifarve (rød, grøn og blå). Man har kun observeret 8 ud af de 9 mulige kombinationer og derfor siger vi at standardmodellen dækker over 8 forskellige gluoner. \n",
    "\n",
    "## Spørgsmål til dette afsnit\n",
    "### 1) <b>Hvad er en kraftformidler? </b>"
   ]
  },
  {
   "cell_type": "markdown",
   "id": "e913feb7-6c57-4421-a340-9c1531f8be62",
   "metadata": {},
   "source": [
    "En kraftformidler/boson er en type partikel der overfører en fundamental naturkraft mellem stofpartiklerne."
   ]
  },
  {
   "cell_type": "markdown",
   "id": "3306a1a9-7e75-4a90-9e32-1f7aeacb2339",
   "metadata": {},
   "source": [
    "### 2) <b>Hvilke typer kraftformidler findes der?</b>"
   ]
  },
  {
   "cell_type": "markdown",
   "id": "9b5136db-15fa-4d75-ae31-a6fae810b36b",
   "metadata": {},
   "source": [
    "Der findes: gluon(g), foton($\\gamma$), Z$^0$-bosonen ($Z^0)$ og W-bosonen($W^\\pm$)."
   ]
  },
  {
   "cell_type": "markdown",
   "id": "edc71633-a96d-42f8-a634-b45b868877d3",
   "metadata": {},
   "source": [
    "### 3) <b>Hvilke fundamentale naturkræfter findes der? </b>"
   ]
  },
  {
   "cell_type": "markdown",
   "id": "a7b0f577-8f6b-4661-a292-315dd5e0249a",
   "metadata": {},
   "source": [
    "Der findes 4 forskellige fundamentale naturkræfter:\n",
    "1) Tyngdekraften\n",
    "2) Den svage kernkraft\n",
    "3) Den stærke kernkraft\n",
    "4) Den elektromagnetiske kraft"
   ]
  },
  {
   "cell_type": "markdown",
   "id": "8e39835e-f83c-46a6-a881-bdf018c9c647",
   "metadata": {},
   "source": [
    "### 4) <b>Hvor mange fundamentale kræfter dækker standardmodellen over?</b>"
   ]
  },
  {
   "cell_type": "markdown",
   "id": "c283b113-b8e2-4707-b604-b1f8261610f8",
   "metadata": {},
   "source": [
    "Den dækker over 3. Gravitationen er ikke inkluderet i standard modellen."
   ]
  },
  {
   "cell_type": "markdown",
   "id": "d24a6211-c32d-4a7b-84f5-76432e185684",
   "metadata": {},
   "source": [
    "### 5) <b>følgende spørgsmål skal besvares individuelt for alle naturkræfter</b> (Standard Modellen dækker over):\n",
    "- Hvad virker den gældende naturkraft på?\n",
    "- Hvad formidles naturkraften af?\n",
    "- Hvornår optræder naturkraften?"
   ]
  },
  {
   "cell_type": "markdown",
   "id": "4578db25-9923-4452-bb6a-1f2a48d7303e",
   "metadata": {},
   "source": [
    "### Den svage kernkraft: \n",
    "- virker på kvarker og leptoner\n",
    "- formidles af z0- og w-bosonen\n",
    "- Indgår i radioaktive betahenfald der har gjort os klogere på hvordan eksempelvis en PET scanner virker\n",
    "### Den stærke kernkraft: \n",
    "- virker på kvarker  \n",
    "- formidles af gluonerne\n",
    "- Kan blive til protoner og neutroner\n",
    "### Den elektromagnetiske kraft: \n",
    "- virker på ladede partikler \n",
    "- formidles af fotonen\n",
    "- Er ansvarlig for lys, elektricitet og magnetisme"
   ]
  },
  {
   "cell_type": "markdown",
   "id": "9b34b293-e510-4bcb-8093-ade6cd183a32",
   "metadata": {},
   "source": [
    "### 6) <b>Hvad sker der når 2 elektroner nærmer sig hinanden?</b>"
   ]
  },
  {
   "cell_type": "markdown",
   "id": "cf64a129-b8aa-4cb3-9cb2-8ed615dd1e3b",
   "metadata": {},
   "source": [
    "Når to elektroner nærmer sig hinanden kan de udveksle en foton, det fører til at de frastødder hinanden grundet den elektromagnetiske kraft"
   ]
  },
  {
   "cell_type": "markdown",
   "id": "368402a7-13f6-4af8-a512-c405cf4b14b4",
   "metadata": {},
   "source": [
    "### 7) <b>Hvad sker der nå kvarker udveksler gluoner?</b>"
   ]
  },
  {
   "cell_type": "markdown",
   "id": "968d43cf-b840-4b27-b55e-e1b538242d20",
   "metadata": {},
   "source": [
    "Kvarker udveksler gluoner for at holde sig sammen inde i protonerne."
   ]
  },
  {
   "cell_type": "markdown",
   "id": "7f09ed55-1625-4f53-bd37-0be4af26daf4",
   "metadata": {},
   "source": [
    "### 8) <b>I hvilke felter har man set en udvikling, ved at forstå standardmodellen? </b>"
   ]
  },
  {
   "cell_type": "markdown",
   "id": "fdd89e6f-b6fc-4055-8852-b630f8d60d00",
   "metadata": {},
   "source": [
    "Man har set en udvikling indenfor teknologi, medicin og energikilder. "
   ]
  },
  {
   "cell_type": "markdown",
   "id": "9a4ccd4d-b350-45ff-a49c-262abc6e37b8",
   "metadata": {},
   "source": [
    "## Egne noter: \n",
    "Dobbeltklik <b>her</b> for at tilføje dine egne noter til dette afsnit"
   ]
  },
  {
   "cell_type": "markdown",
   "id": "9bb05f5e-6d26-4012-a8c7-585555714f1c",
   "metadata": {},
   "source": [
    "___\n",
    "___"
   ]
  }
 ],
 "metadata": {
  "kernelspec": {
   "display_name": "Python 3",
   "language": "python",
   "name": "python3"
  },
  "language_info": {
   "codemirror_mode": {
    "name": "ipython",
    "version": 3
   },
   "file_extension": ".py",
   "mimetype": "text/x-python",
   "name": "python",
   "nbconvert_exporter": "python",
   "pygments_lexer": "ipython3",
   "version": "3.8.8"
  }
 },
 "nbformat": 4,
 "nbformat_minor": 5
}
