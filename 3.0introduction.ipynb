{
 "cells": [
  {
   "cell_type": "markdown",
   "id": "aded7404-0591-4f84-9a61-5d80723ee1b7",
   "metadata": {},
   "source": [
    "# $v_0$-partikle og ALEPH Eksperimentet\n",
    "I denne notebook skal vi bygge ovenpå den teori vi har lært om standardmodellen og statistik. Du bliver i teoriafsnittet introduceret til $v_0$-partikler og ALEPH-detektoren.\n",
    "\n",
    "### ALEPH-detektoren\n",
    "I 1990'erne kørte der et eksperiment ved navn ALEPH på CERN. Her skød man elektroner og  positroner(anti-elektron), sammen ved høj fart. Når disse partikler kolliderer, kan de omdannes til en $Z$-boson. \n",
    "- Bemærk: alle disse partikler er en del af standardmodellen, som du allerede har hørt om.\n",
    "\n",
    "En $Z$-boson har en ekstremt kort levetid og vil derfor næsten øjeblikkeligt henfalde. Dette betyder, at den hurtigt omdannes til andre partikler. Disse partikler kan også henfalde videre eller gå sammen med andre partikler. I denne komplekse proces skabes et væld af nye partikler, og en af dem er $V^0$-partiklen <i>(Henfald = spontan omdannelse)</i>. \n",
    "\n",
    "\n",
    "ALEPH-detektoren er flere detektorer fordelt i små kamrer([illustration](https://aleph.web.cern.ch/educ/detector.gif)), der kunne opfange forskellige egenskaber ved de skabte partikler. Detektorerne kunne fx måle:\n",
    "- Om partiklerne havde en elektrisk ladning.\n",
    "- Partiklernes energi.\n",
    "- Den retning, som partiklerne bevægede sig i.\n",
    "\n",
    "Ud fra disse informationer kunne forskerne beregne andre vigtige egenskaber, herunder massen af $V^0$-partikler.\n",
    "\n",
    "Kollisionerne mellem elektron og positron blev gentaget millioner af gange under ALEPH-eksperimentet, hvilket resulterede i et enormt datasæt. I dette projekt skal I arbejde med cirka 55.000 events.\n",
    "\n",
    "### $V^0 -partikler$\n",
    "En $V^0$ partikel er en neutral partikel. I ALEPH detektoren blev der skabt primært 4 forskellige neutrale partikler, som henfaldt til en positiv og en negativ partikel som detektoren så kunne opfange. I skal se nærmere på tre af dem, nemlig: K0, Lambda og antilambda partiklerne.\n",
    "\n",
    "### Massemåling\n",
    "Alle stofpartikler har en masse, som vi kender en teoretisk værdi på (ses på standardmodellen eller (PDG)).  På grund af partikler er så små og bevæger sig så hurtigt, kan de ikke vejes på en vægt. Derfor har vi brug for et stort datasæt af $v0$-partiklerne, der kan fortælle noget om deres egenskaber – herunder dens masse. Massen måles i $eV/c^2$ som vi tidligere har lært, er udledt fra Einsteins formel for energi. Lad os se på formlen og isolere massen:\n",
    "\n",
    "$E = mc^2 \\rightarrow m = E/c^2$\n",
    "\n",
    "Hvor: \n",
    "- (E): Partiklens energi, måles i elektron volt [eV]\n",
    "- (m): partiklens masse, måles i [eV/$c^2$]\n",
    "- (c): Lysets hastighed, fordi det er en værdi der ikke ændrer sig udtrykker vi den primært kun symbolks i partikelfysik [$c^2$] fremfor 299 792 458[$m/s$]\n",
    "\n",
    "Ved at observere partiklens energi kan vi altså forstå dens masse fordi de er direkte propertionale med hinanden. \n",
    "\n",
    "Vi lærte i statistik-delen at jo flere målinger vi har, jo mere konkret kan man forholde sig til sine resultater. Når man arbejder med datasæt i den størrelse som det vi har fra ALEPH-detektoren, er der gode chancer for at observere en fordeling med et tydeligt peak. Dette peak repræsenterer den gennemsnitlige masse af $v^0$-partiklen."
   ]
  },
  {
   "cell_type": "markdown",
   "id": "e861452b-208f-4fc2-97f5-f29a8bc656f7",
   "metadata": {},
   "source": [
    "## Vær opmærksom på:\n",
    "Du vil møde celler med længere kode end du har været vant til at se. Nogen gange er de repræsenteret med tre prikker ... i venstre side, dem kan man dobbeltklikke på og koden vil blive synligt. Det er vigtigt ikke at ændre i noget medmindre du bliver bedt om det. God fornøjelse! "
   ]
  }
 ],
 "metadata": {
  "kernelspec": {
   "display_name": "Python 3",
   "language": "python",
   "name": "python3"
  },
  "language_info": {
   "codemirror_mode": {
    "name": "ipython",
    "version": 3
   },
   "file_extension": ".py",
   "mimetype": "text/x-python",
   "name": "python",
   "nbconvert_exporter": "python",
   "pygments_lexer": "ipython3",
   "version": "3.8.8"
  }
 },
 "nbformat": 4,
 "nbformat_minor": 5
}
